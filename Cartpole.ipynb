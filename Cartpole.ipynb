{
 "cells": [
  {
   "cell_type": "code",
   "execution_count": null,
   "id": "d25431b1",
   "metadata": {},
   "outputs": [],
   "source": [
    "import ReinforceAgent\n",
    "import matplotlib.pyplot as plt"
   ]
  },
  {
   "cell_type": "markdown",
   "id": "b26f5efc",
   "metadata": {},
   "source": [
    "## Cartpole"
   ]
  },
  {
   "cell_type": "code",
   "execution_count": null,
   "id": "d3b968b1",
   "metadata": {},
   "outputs": [],
   "source": [
    "agent = ReinforceAgent.ReinforceAgent(\"CartPole-v0\")"
   ]
  },
  {
   "cell_type": "code",
   "execution_count": null,
   "id": "307fedc8",
   "metadata": {},
   "outputs": [],
   "source": [
    "# hist = agent.run_simulation()\n",
    "# hist"
   ]
  },
  {
   "cell_type": "code",
   "execution_count": null,
   "id": "62ad0a1c",
   "metadata": {
    "scrolled": true
   },
   "outputs": [],
   "source": [
    "history, rewards = agent.train(epochs=10)"
   ]
  },
  {
   "cell_type": "code",
   "execution_count": null,
   "id": "4bcb4d2e",
   "metadata": {},
   "outputs": [],
   "source": [
    "plt.plot(rewards);"
   ]
  },
  {
   "cell_type": "markdown",
   "id": "d41ceb66",
   "metadata": {},
   "source": [
    "## Vizdoom Tests"
   ]
  },
  {
   "cell_type": "code",
   "execution_count": null,
   "id": "8b03c671",
   "metadata": {},
   "outputs": [],
   "source": [
    "agent = ReinforceAgent.ReinforceAgent(\"VizDoom\")"
   ]
  },
  {
   "cell_type": "code",
   "execution_count": null,
   "id": "6086bfba",
   "metadata": {},
   "outputs": [],
   "source": [
    "# hist_doom = agent.run_simulation()\n",
    "# hist_doom"
   ]
  },
  {
   "cell_type": "code",
   "execution_count": null,
   "id": "22fccfeb",
   "metadata": {},
   "outputs": [],
   "source": [
    "history, rewards = agent.train(epochs=10)"
   ]
  },
  {
   "cell_type": "code",
   "execution_count": null,
   "id": "5be442ec",
   "metadata": {},
   "outputs": [],
   "source": [
    "plt.plot(rewards);"
   ]
  },
  {
   "cell_type": "markdown",
   "id": "e5bfdfb1",
   "metadata": {},
   "source": [
    "## Spielwiese"
   ]
  },
  {
   "cell_type": "code",
   "execution_count": null,
   "id": "f581281c",
   "metadata": {},
   "outputs": [],
   "source": []
  }
 ],
 "metadata": {
  "kernelspec": {
   "display_name": "Python 3",
   "language": "python",
   "name": "python3"
  },
  "language_info": {
   "codemirror_mode": {
    "name": "ipython",
    "version": 3
   },
   "file_extension": ".py",
   "mimetype": "text/x-python",
   "name": "python",
   "nbconvert_exporter": "python",
   "pygments_lexer": "ipython3",
   "version": "3.7.2"
  },
  "toc": {
   "base_numbering": 1,
   "nav_menu": {},
   "number_sections": true,
   "sideBar": true,
   "skip_h1_title": false,
   "title_cell": "Table of Contents",
   "title_sidebar": "Contents",
   "toc_cell": false,
   "toc_position": {},
   "toc_section_display": true,
   "toc_window_display": true
  },
  "varInspector": {
   "cols": {
    "lenName": 16,
    "lenType": 16,
    "lenVar": 40
   },
   "kernels_config": {
    "python": {
     "delete_cmd_postfix": "",
     "delete_cmd_prefix": "del ",
     "library": "var_list.py",
     "varRefreshCmd": "print(var_dic_list())"
    },
    "r": {
     "delete_cmd_postfix": ") ",
     "delete_cmd_prefix": "rm(",
     "library": "var_list.r",
     "varRefreshCmd": "cat(var_dic_list()) "
    }
   },
   "position": {
    "height": "623.85px",
    "left": "1548px",
    "right": "20px",
    "top": "120px",
    "width": "352px"
   },
   "types_to_exclude": [
    "module",
    "function",
    "builtin_function_or_method",
    "instance",
    "_Feature"
   ],
   "window_display": true
  }
 },
 "nbformat": 4,
 "nbformat_minor": 5
}
