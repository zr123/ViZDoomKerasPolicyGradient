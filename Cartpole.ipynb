{
 "cells": [
  {
   "cell_type": "code",
   "execution_count": null,
   "id": "5abf81ec",
   "metadata": {},
   "outputs": [],
   "source": [
    "import ReinforceAgent"
   ]
  },
  {
   "cell_type": "code",
   "execution_count": null,
   "id": "38d3ed5f",
   "metadata": {},
   "outputs": [],
   "source": [
    "agent = ReinforceAgent.ReinforceAgent()"
   ]
  },
  {
   "cell_type": "code",
   "execution_count": null,
   "id": "2af228ef",
   "metadata": {},
   "outputs": [],
   "source": [
    "hist = agent.run_simulation()\n",
    "hist"
   ]
  },
  {
   "cell_type": "code",
   "execution_count": null,
   "id": "8420ecc6",
   "metadata": {},
   "outputs": [],
   "source": [
    "agent.train()"
   ]
  },
  {
   "cell_type": "code",
   "execution_count": null,
   "id": "90ea14c5",
   "metadata": {},
   "outputs": [],
   "source": [
    "agent.play_and_display()"
   ]
  },
  {
   "cell_type": "code",
   "execution_count": null,
   "id": "af8d0fea",
   "metadata": {},
   "outputs": [],
   "source": []
  },
  {
   "cell_type": "code",
   "execution_count": null,
   "id": "0a5f6f75",
   "metadata": {},
   "outputs": [],
   "source": [
    "agent = ReinforceAgent.ReinforceAgent(\"VizDoom\")"
   ]
  },
  {
   "cell_type": "code",
   "execution_count": null,
   "id": "ec21fd51",
   "metadata": {},
   "outputs": [],
   "source": [
    "hist = agent.run_simulation()\n",
    "hist"
   ]
  },
  {
   "cell_type": "code",
   "execution_count": null,
   "id": "2ce92afe",
   "metadata": {},
   "outputs": [],
   "source": [
    "agent.train()"
   ]
  },
  {
   "cell_type": "code",
   "execution_count": null,
   "id": "f9baa96a",
   "metadata": {},
   "outputs": [],
   "source": [
    "agent.play_and_display()"
   ]
  },
  {
   "cell_type": "code",
   "execution_count": null,
   "id": "c1ead72e",
   "metadata": {},
   "outputs": [],
   "source": []
  },
  {
   "cell_type": "code",
   "execution_count": null,
   "id": "13e0af09",
   "metadata": {},
   "outputs": [],
   "source": []
  }
 ],
 "metadata": {
  "kernelspec": {
   "display_name": "Python 3",
   "language": "python",
   "name": "python3"
  },
  "language_info": {
   "codemirror_mode": {
    "name": "ipython",
    "version": 3
   },
   "file_extension": ".py",
   "mimetype": "text/x-python",
   "name": "python",
   "nbconvert_exporter": "python",
   "pygments_lexer": "ipython3",
   "version": "3.7.2"
  },
  "toc": {
   "base_numbering": 1,
   "nav_menu": {},
   "number_sections": true,
   "sideBar": true,
   "skip_h1_title": false,
   "title_cell": "Table of Contents",
   "title_sidebar": "Contents",
   "toc_cell": false,
   "toc_position": {},
   "toc_section_display": true,
   "toc_window_display": true
  },
  "varInspector": {
   "cols": {
    "lenName": 16,
    "lenType": 16,
    "lenVar": 40
   },
   "kernels_config": {
    "python": {
     "delete_cmd_postfix": "",
     "delete_cmd_prefix": "del ",
     "library": "var_list.py",
     "varRefreshCmd": "print(var_dic_list())"
    },
    "r": {
     "delete_cmd_postfix": ") ",
     "delete_cmd_prefix": "rm(",
     "library": "var_list.r",
     "varRefreshCmd": "cat(var_dic_list()) "
    }
   },
   "types_to_exclude": [
    "module",
    "function",
    "builtin_function_or_method",
    "instance",
    "_Feature"
   ],
   "window_display": true
  }
 },
 "nbformat": 4,
 "nbformat_minor": 5
}
