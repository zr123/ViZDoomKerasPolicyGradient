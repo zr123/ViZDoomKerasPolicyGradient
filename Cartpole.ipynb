{
 "cells": [
  {
   "cell_type": "code",
   "execution_count": null,
   "id": "d25431b1",
   "metadata": {},
   "outputs": [],
   "source": [
    "import ReinforceAgent\n",
    "import matplotlib.pyplot as plt\n",
    "import pandas as pd"
   ]
  },
  {
   "cell_type": "markdown",
   "id": "b5d90bcb",
   "metadata": {},
   "source": [
    "## Cartpole"
   ]
  },
  {
   "cell_type": "code",
   "execution_count": null,
   "id": "d3b968b1",
   "metadata": {},
   "outputs": [],
   "source": [
    "agent = ReinforceAgent.ReinforceAgent(\"CartPole-v0\")"
   ]
  },
  {
   "cell_type": "code",
   "execution_count": null,
   "id": "62ad0a1c",
   "metadata": {
    "scrolled": true
   },
   "outputs": [],
   "source": [
    "history, rewards = agent.train(epochs=500)"
   ]
  },
  {
   "cell_type": "code",
   "execution_count": null,
   "id": "4bcb4d2e",
   "metadata": {},
   "outputs": [],
   "source": []
  },
  {
   "cell_type": "markdown",
   "id": "ab8d844a",
   "metadata": {},
   "source": [
    "## Cartpole Training with Multibatch\n",
    "\n",
    "Using batch_size we can increase the number of simulations done per gradient-update. This can stabilize the otherwise erratic training. We will also need fewer epochs to train our agents and this approach parallelizes well. "
   ]
  },
  {
   "cell_type": "code",
   "execution_count": null,
   "id": "14a474a7",
   "metadata": {},
   "outputs": [],
   "source": [
    "agent = ReinforceAgent.ReinforceAgent(\"CartPole-v0\")"
   ]
  },
  {
   "cell_type": "code",
   "execution_count": null,
   "id": "d14c5f92",
   "metadata": {},
   "outputs": [],
   "source": [
    "history, rewards = agent.train(epochs=500, batch_size=8)"
   ]
  },
  {
   "cell_type": "code",
   "execution_count": null,
   "id": "df74aed5",
   "metadata": {},
   "outputs": [],
   "source": [
    "plt.plot(rewards, color=\"blue\", label=\"Batch\")\n",
    "plt.plot(pd.DataFrame(rewards).rolling(window=10).mean(), color=\"red\", label=\"Moving average (10 batches)\")\n",
    "plt.xlabel(\"Epochs\")\n",
    "plt.ylabel(\"Reward\")\n",
    "plt.legend();"
   ]
  },
  {
   "cell_type": "code",
   "execution_count": null,
   "id": "fee00b0a",
   "metadata": {},
   "outputs": [],
   "source": [
    "agent.model.save(\"models/CartpoleReinforceMultibatch/\")"
   ]
  },
  {
   "cell_type": "markdown",
   "id": "d41ceb66",
   "metadata": {},
   "source": [
    "## Vizdoom Tests"
   ]
  },
  {
   "cell_type": "code",
   "execution_count": null,
   "id": "8b03c671",
   "metadata": {},
   "outputs": [],
   "source": [
    "agent = ReinforceAgent.ReinforceAgent(\"VizDoom\")"
   ]
  },
  {
   "cell_type": "code",
   "execution_count": null,
   "id": "6086bfba",
   "metadata": {},
   "outputs": [],
   "source": [
    "# hist_doom = agent.run_simulation()\n",
    "# hist_doom"
   ]
  },
  {
   "cell_type": "code",
   "execution_count": null,
   "id": "6b877c02",
   "metadata": {},
   "outputs": [],
   "source": [
    "history, rewards = agent.train(epochs=10)"
   ]
  },
  {
   "cell_type": "code",
   "execution_count": null,
   "id": "fd730d0c",
   "metadata": {},
   "outputs": [],
   "source": [
    "plt.plot(rewards);"
   ]
  },
  {
   "cell_type": "markdown",
   "id": "5eb5b7c7",
   "metadata": {},
   "source": [
    "## Spielwiese"
   ]
  },
  {
   "cell_type": "code",
   "execution_count": null,
   "id": "c4eba025",
   "metadata": {},
   "outputs": [],
   "source": []
  }
 ],
 "metadata": {
  "kernelspec": {
   "display_name": "Python 3",
   "language": "python",
   "name": "python3"
  },
  "language_info": {
   "codemirror_mode": {
    "name": "ipython",
    "version": 3
   },
   "file_extension": ".py",
   "mimetype": "text/x-python",
   "name": "python",
   "nbconvert_exporter": "python",
   "pygments_lexer": "ipython3",
   "version": "3.7.2"
  },
  "toc": {
   "base_numbering": 1,
   "nav_menu": {},
   "number_sections": true,
   "sideBar": true,
   "skip_h1_title": false,
   "title_cell": "Table of Contents",
   "title_sidebar": "Contents",
   "toc_cell": false,
   "toc_position": {},
   "toc_section_display": true,
   "toc_window_display": true
  },
  "varInspector": {
   "cols": {
    "lenName": 16,
    "lenType": 16,
    "lenVar": 40
   },
   "kernels_config": {
    "python": {
     "delete_cmd_postfix": "",
     "delete_cmd_prefix": "del ",
     "library": "var_list.py",
     "varRefreshCmd": "print(var_dic_list())"
    },
    "r": {
     "delete_cmd_postfix": ") ",
     "delete_cmd_prefix": "rm(",
     "library": "var_list.r",
     "varRefreshCmd": "cat(var_dic_list()) "
    }
   },
   "position": {
    "height": "623.85px",
    "left": "1548px",
    "right": "20px",
    "top": "120px",
    "width": "352px"
   },
   "types_to_exclude": [
    "module",
    "function",
    "builtin_function_or_method",
    "instance",
    "_Feature"
   ],
   "window_display": true
  }
 },
 "nbformat": 4,
 "nbformat_minor": 5
}
