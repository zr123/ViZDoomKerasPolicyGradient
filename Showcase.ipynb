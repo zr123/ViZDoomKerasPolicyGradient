{
 "cells": [
  {
   "cell_type": "code",
   "execution_count": null,
   "id": "d25431b1",
   "metadata": {},
   "outputs": [],
   "source": [
    "import ReinforceAgent\n",
    "import matplotlib.pyplot as plt\n",
    "import pandas as pd"
   ]
  },
  {
   "cell_type": "markdown",
   "id": "b5d90bcb",
   "metadata": {},
   "source": [
    "## Cartpole"
   ]
  },
  {
   "cell_type": "code",
   "execution_count": null,
   "id": "d3b968b1",
   "metadata": {},
   "outputs": [],
   "source": [
    "agent = ReinforceAgent.ReinforceAgent(\"CartPole-v0\")"
   ]
  },
  {
   "cell_type": "code",
   "execution_count": null,
   "id": "62ad0a1c",
   "metadata": {
    "scrolled": true
   },
   "outputs": [],
   "source": [
    "history, rewards = agent.train(epochs=250)"
   ]
  },
  {
   "cell_type": "code",
   "execution_count": null,
   "id": "4bcb4d2e",
   "metadata": {},
   "outputs": [],
   "source": [
    "agent.plot_training()"
   ]
  },
  {
   "cell_type": "code",
   "execution_count": null,
   "id": "b1a163f0",
   "metadata": {},
   "outputs": [],
   "source": [
    "agent.save_model(\"models/CartpoleReinforce\")"
   ]
  },
  {
   "cell_type": "code",
   "execution_count": null,
   "id": "5893ba6e",
   "metadata": {},
   "outputs": [],
   "source": [
    "agent.play_and_display()"
   ]
  },
  {
   "cell_type": "markdown",
   "id": "ab8d844a",
   "metadata": {},
   "source": [
    "## Cartpole Training with Multibatch\n",
    "\n",
    "Using batch_size we can increase the number of simulations done per gradient-update. This can stabilize the otherwise erratic training. We will also need fewer epochs to train our agents and this approach parallelizes well. "
   ]
  },
  {
   "cell_type": "code",
   "execution_count": null,
   "id": "14a474a7",
   "metadata": {},
   "outputs": [],
   "source": [
    "agent = ReinforceAgent.ReinforceAgent.load_model(\"models/CartpoleReinforceMultibatch\", \"CartPole-v0\")"
   ]
  },
  {
   "cell_type": "code",
   "execution_count": null,
   "id": "d14c5f92",
   "metadata": {},
   "outputs": [],
   "source": [
    "# agent = ReinforceAgent.ReinforceAgent(\"CartPole-v0\")\n",
    "# history, rewards = agent.train(epochs=10, batch_size=4)"
   ]
  },
  {
   "cell_type": "code",
   "execution_count": null,
   "id": "df74aed5",
   "metadata": {},
   "outputs": [],
   "source": [
    "agent.plot_training()"
   ]
  },
  {
   "cell_type": "code",
   "execution_count": null,
   "id": "fee00b0a",
   "metadata": {},
   "outputs": [],
   "source": [
    "agent.save_model(\"models/CartpoleReinforceMultibatch\")"
   ]
  },
  {
   "cell_type": "code",
   "execution_count": null,
   "id": "971cc2b5",
   "metadata": {},
   "outputs": [],
   "source": [
    "agent.play_and_display()"
   ]
  },
  {
   "cell_type": "markdown",
   "id": "d41ceb66",
   "metadata": {},
   "source": [
    "## Vizdoom with Reinfroce and Multibatch"
   ]
  },
  {
   "cell_type": "code",
   "execution_count": null,
   "id": "8b03c671",
   "metadata": {},
   "outputs": [],
   "source": [
    "# agent = ReinforceAgent.ReinforceAgent(\"VizDoom\")\n",
    "agent = ReinforceAgent.ReinforceAgent.load_model(\"models/VizdoomReinforceMultibatch\", \"VizDoom\")"
   ]
  },
  {
   "cell_type": "code",
   "execution_count": null,
   "id": "5670cf9a",
   "metadata": {},
   "outputs": [],
   "source": [
    "# history, rewards = agent.train(epochs=500, batch_size=6)"
   ]
  },
  {
   "cell_type": "code",
   "execution_count": null,
   "id": "ff92ebe2",
   "metadata": {},
   "outputs": [],
   "source": [
    "agent.plot_training()"
   ]
  },
  {
   "cell_type": "code",
   "execution_count": null,
   "id": "2e683bb8",
   "metadata": {},
   "outputs": [],
   "source": [
    "agent.play_and_display()"
   ]
  },
  {
   "cell_type": "markdown",
   "id": "0bb6a732",
   "metadata": {},
   "source": [
    "## Reinforce with Basline (Cartpole)"
   ]
  },
  {
   "cell_type": "code",
   "execution_count": null,
   "id": "5ab8c253",
   "metadata": {},
   "outputs": [],
   "source": [
    "import ReinforceBaselineAgent"
   ]
  },
  {
   "cell_type": "code",
   "execution_count": null,
   "id": "93de4fb9",
   "metadata": {},
   "outputs": [],
   "source": [
    "#agent = ReinforceBaselineAgent.ReinforceBaselineAgent(\"CartPole-v0\")\n",
    "agent = ReinforceBaselineAgent.ReinforceBaselineAgent.load_model(\"models/CartpoleReinforceBaseline\", \"CartPole-v0\")"
   ]
  },
  {
   "cell_type": "code",
   "execution_count": null,
   "id": "37eb22a2",
   "metadata": {
    "scrolled": true
   },
   "outputs": [],
   "source": [
    "history, rewards = agent.train(epochs=250, batch_size=4)"
   ]
  },
  {
   "cell_type": "code",
   "execution_count": null,
   "id": "9c199aae",
   "metadata": {},
   "outputs": [],
   "source": [
    "agent.plot_training()"
   ]
  },
  {
   "cell_type": "code",
   "execution_count": null,
   "id": "ea1a2f59",
   "metadata": {},
   "outputs": [],
   "source": [
    "agent.save_model(\"models/CartpoleReinforceBaseline\")"
   ]
  },
  {
   "cell_type": "code",
   "execution_count": null,
   "id": "2707f0b5",
   "metadata": {},
   "outputs": [],
   "source": [
    "agent.play_and_display()"
   ]
  },
  {
   "cell_type": "markdown",
   "id": "5eb5b7c7",
   "metadata": {},
   "source": [
    "## Reinforce with Basline (ViZDoom)"
   ]
  },
  {
   "cell_type": "code",
   "execution_count": null,
   "id": "c4eba025",
   "metadata": {},
   "outputs": [],
   "source": []
  }
 ],
 "metadata": {
  "kernelspec": {
   "display_name": "Python 3",
   "language": "python",
   "name": "python3"
  },
  "language_info": {
   "codemirror_mode": {
    "name": "ipython",
    "version": 3
   },
   "file_extension": ".py",
   "mimetype": "text/x-python",
   "name": "python",
   "nbconvert_exporter": "python",
   "pygments_lexer": "ipython3",
   "version": "3.7.2"
  },
  "toc": {
   "base_numbering": 1,
   "nav_menu": {},
   "number_sections": true,
   "sideBar": true,
   "skip_h1_title": false,
   "title_cell": "Table of Contents",
   "title_sidebar": "Contents",
   "toc_cell": false,
   "toc_position": {},
   "toc_section_display": true,
   "toc_window_display": true
  },
  "varInspector": {
   "cols": {
    "lenName": 16,
    "lenType": 16,
    "lenVar": 40
   },
   "kernels_config": {
    "python": {
     "delete_cmd_postfix": "",
     "delete_cmd_prefix": "del ",
     "library": "var_list.py",
     "varRefreshCmd": "print(var_dic_list())"
    },
    "r": {
     "delete_cmd_postfix": ") ",
     "delete_cmd_prefix": "rm(",
     "library": "var_list.r",
     "varRefreshCmd": "cat(var_dic_list()) "
    }
   },
   "position": {
    "height": "623.85px",
    "left": "1548px",
    "right": "20px",
    "top": "120px",
    "width": "352px"
   },
   "types_to_exclude": [
    "module",
    "function",
    "builtin_function_or_method",
    "instance",
    "_Feature"
   ],
   "window_display": true
  }
 },
 "nbformat": 4,
 "nbformat_minor": 5
}
