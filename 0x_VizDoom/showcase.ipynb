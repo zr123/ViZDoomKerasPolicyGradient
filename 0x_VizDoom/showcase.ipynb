{
 "cells": [
  {
   "cell_type": "markdown",
   "id": "d5fe9ae5",
   "metadata": {},
   "source": [
    "Lets start by importing our python file."
   ]
  },
  {
   "cell_type": "code",
   "execution_count": null,
   "id": "40d26014",
   "metadata": {},
   "outputs": [],
   "source": [
    "import vizdoom_test"
   ]
  },
  {
   "cell_type": "markdown",
   "id": "b74c6580",
   "metadata": {},
   "source": [
    "## Random Agent\n",
    "\n",
    "To test things out we can use the function `play_randomly()`. It creates a new game instance and takes random actions. There is no machine learning involved yet."
   ]
  },
  {
   "cell_type": "code",
   "execution_count": null,
   "id": "527b03fb",
   "metadata": {},
   "outputs": [],
   "source": [
    "total_reward = vizdoom_test.play_randomly()\n",
    "total_reward"
   ]
  },
  {
   "cell_type": "markdown",
   "id": "6c7d3661",
   "metadata": {},
   "source": [
    "Depending on how lucky the agent is the reward may be anywhere between 0 and 21.\n",
    "\n",
    "Naturally random actions arn't all that good and the reward is most likely going to be rather low. Thats why we want to use reinforcement learning after all."
   ]
  },
  {
   "cell_type": "markdown",
   "id": "7d91d31f",
   "metadata": {},
   "source": [
    "## Playing manually"
   ]
  },
  {
   "cell_type": "code",
   "execution_count": null,
   "id": "d5a3b4ab",
   "metadata": {},
   "outputs": [],
   "source": [
    "# because if limitations between jupyter and vizdoom, playing manually isn't possible from this notebook\n",
    "# you can use the script 'play_manually.py' to play yourself"
   ]
  },
  {
   "cell_type": "markdown",
   "id": "d0284a05",
   "metadata": {},
   "source": [
    "## Loading a trained model\n",
    "\n",
    "Lets load one of the trained models to see how it behaves and how well it performs."
   ]
  },
  {
   "cell_type": "code",
   "execution_count": null,
   "id": "d3e17711",
   "metadata": {},
   "outputs": [],
   "source": [
    "model = vizdoom_test.load_model(path=\"model\")"
   ]
  },
  {
   "cell_type": "code",
   "execution_count": null,
   "id": "f3398207",
   "metadata": {},
   "outputs": [],
   "source": [
    "vizdoom_test.play_and_display(model)"
   ]
  },
  {
   "cell_type": "code",
   "execution_count": null,
   "id": "30146cc9",
   "metadata": {},
   "outputs": [],
   "source": []
  }
 ],
 "metadata": {
  "kernelspec": {
   "display_name": "Python 3",
   "language": "python",
   "name": "python3"
  },
  "language_info": {
   "codemirror_mode": {
    "name": "ipython",
    "version": 3
   },
   "file_extension": ".py",
   "mimetype": "text/x-python",
   "name": "python",
   "nbconvert_exporter": "python",
   "pygments_lexer": "ipython3",
   "version": "3.7.2"
  },
  "toc": {
   "base_numbering": 1,
   "nav_menu": {},
   "number_sections": true,
   "sideBar": true,
   "skip_h1_title": false,
   "title_cell": "Table of Contents",
   "title_sidebar": "Contents",
   "toc_cell": false,
   "toc_position": {},
   "toc_section_display": true,
   "toc_window_display": true
  },
  "varInspector": {
   "cols": {
    "lenName": 16,
    "lenType": 16,
    "lenVar": 40
   },
   "kernels_config": {
    "python": {
     "delete_cmd_postfix": "",
     "delete_cmd_prefix": "del ",
     "library": "var_list.py",
     "varRefreshCmd": "print(var_dic_list())"
    },
    "r": {
     "delete_cmd_postfix": ") ",
     "delete_cmd_prefix": "rm(",
     "library": "var_list.r",
     "varRefreshCmd": "cat(var_dic_list()) "
    }
   },
   "types_to_exclude": [
    "module",
    "function",
    "builtin_function_or_method",
    "instance",
    "_Feature"
   ],
   "window_display": true
  }
 },
 "nbformat": 4,
 "nbformat_minor": 5
}
