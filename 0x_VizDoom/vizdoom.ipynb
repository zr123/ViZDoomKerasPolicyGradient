{
 "cells": [
  {
   "cell_type": "code",
   "execution_count": null,
   "id": "14897937",
   "metadata": {},
   "outputs": [],
   "source": [
    "import tensorflow as tf\n",
    "import tensorflow.keras as keras\n",
    "from tensorflow.keras import backend as K\n",
    "from tensorflow.keras import Sequential\n",
    "from tensorflow.keras.layers import Input, Dense, Conv2D, MaxPooling2D, Flatten\n",
    "from tensorflow.keras import layers\n",
    "import tensorflow.keras.utils as utils\n",
    "from vizdoom import *\n",
    "import random\n",
    "import cv2\n",
    "import numpy as np\n",
    "import matplotlib.pyplot as plt\n",
    "import pandas as pd\n",
    "\n",
    "plt.rcParams[\"figure.figsize\"] = (10, 5)\n",
    "%matplotlib nbagg"
   ]
  },
  {
   "cell_type": "code",
   "execution_count": null,
   "id": "9a4ae80a",
   "metadata": {},
   "outputs": [],
   "source": [
    "SCREEN_BUFFER_SHAPE = (3, 240, 320)\n",
    "ACTION_SPACE = 3\n",
    "\n",
    "PROCESSED_SCREEN_HEIGTH = 60\n",
    "PROCESSED_SCREEN_WIDTH = 80\n",
    "\n",
    "FRAMES_PER_ACTION = 6"
   ]
  },
  {
   "cell_type": "code",
   "execution_count": null,
   "id": "22620ac2",
   "metadata": {},
   "outputs": [],
   "source": [
    "def create_game(display=True):\n",
    "    game = DoomGame()\n",
    "    game.load_config(\"../scenarios/health_gathering.cfg\")\n",
    "    game.set_doom_scenario_path(\"../scenarios/health_gathering.wad\")\n",
    "    #game.set_render_hud(True)\n",
    "    game.set_window_visible(display)\n",
    "    game.init()\n",
    "    \n",
    "    # actions: left, right, forward\n",
    "    actions = [[1, 0, 0], [0, 1, 0], [0, 0, 1]]\n",
    "    return game, actions"
   ]
  },
  {
   "cell_type": "code",
   "execution_count": null,
   "id": "bb525ecd",
   "metadata": {},
   "outputs": [],
   "source": [
    "def play_randomly(game, actions):\n",
    "    game.set_render_hud(True)\n",
    "    game.new_episode()\n",
    "    while not game.is_episode_finished():\n",
    "        state = game.get_state()\n",
    "        img = state.screen_buffer\n",
    "        misc = state.game_variables\n",
    "        reward = game.make_action(random.choice(actions), FRAMES_PER_ACTION)\n",
    "    game.get_total_reward()"
   ]
  },
  {
   "cell_type": "code",
   "execution_count": null,
   "id": "64ff5a1c",
   "metadata": {},
   "outputs": [],
   "source": [
    "game, actions = create_game()\n",
    "play_randomly(game, actions)\n",
    "game.close()"
   ]
  },
  {
   "cell_type": "code",
   "execution_count": null,
   "id": "e2a41ad9",
   "metadata": {},
   "outputs": [],
   "source": [
    "def preprocess_screen(screen, width=PROCESSED_SCREEN_WIDTH, height=PROCESSED_SCREEN_HEIGTH):\n",
    "    # vizdoom used channel-first, cv2 uses channel-last\n",
    "    screen = screen.transpose((1, 2, 0))\n",
    "    # grayscale\n",
    "    screen = cv2.cvtColor(screen, cv2.COLOR_BGR2GRAY)\n",
    "    # resize\n",
    "    screen = cv2.resize(screen, (width, height))\n",
    "    # normalize\n",
    "    screen = screen / 255.0\n",
    "    return screen"
   ]
  },
  {
   "cell_type": "code",
   "execution_count": null,
   "id": "f2fe144e",
   "metadata": {},
   "outputs": [],
   "source": [
    "def create_model(input_width=PROCESSED_SCREEN_WIDTH, input_height=PROCESSED_SCREEN_HEIGTH, action_space=ACTION_SPACE):\n",
    "    # screen-input and conv_layers\n",
    "    screen_input = Input((input_height, input_width, 1))\n",
    "    conv_layers = Conv2D(32, kernel_size=(3, 3), activation=\"relu\")(screen_input)\n",
    "    conv_layers = MaxPooling2D(pool_size=(2, 2))(conv_layers)\n",
    "    conv_layers = Conv2D(32, kernel_size=(3, 3), activation=\"relu\")(conv_layers)\n",
    "    conv_layers = MaxPooling2D(pool_size=(2, 2))(conv_layers)\n",
    "    conv_layers = Conv2D(32, kernel_size=(3, 3), activation=\"relu\")(conv_layers)\n",
    "    conv_layers = MaxPooling2D(pool_size=(2, 2))(conv_layers)\n",
    "    conv_layers = Conv2D(32, kernel_size=(3, 3), activation=\"relu\")(conv_layers)\n",
    "    conv_layers = MaxPooling2D(pool_size=(2, 2))(conv_layers)\n",
    "    conv_layers = Flatten()(conv_layers)\n",
    "    \n",
    "    # health input\n",
    "    health_input = Input((1,))\n",
    "    \n",
    "    # concat and add some dense layers for good measure\n",
    "    dense_layers = layers.concatenate([conv_layers, health_input])\n",
    "    dense_layers = Dense(16, activation='relu')(dense_layers)\n",
    "    dense_layers = Dense(16, activation='relu')(dense_layers)\n",
    "    dense_layers = Dense(16, activation='relu')(dense_layers)\n",
    "    \n",
    "    # finalize\n",
    "    output = Dense(action_space, activation='softmax')(dense_layers)\n",
    "    model = keras.Model(inputs=[screen_input, health_input], outputs=output)\n",
    "    model.compile(optimizer='adam', loss='categorical_crossentropy')\n",
    "    return model"
   ]
  },
  {
   "cell_type": "code",
   "execution_count": null,
   "id": "e984c25a",
   "metadata": {},
   "outputs": [],
   "source": [
    "def format_state(state):\n",
    "    screen = game.get_state().screen_buffer\n",
    "    health = game.get_state().game_variables\n",
    "    processed_screen = preprocess_screen(screen)\n",
    "    return [processed_screen, health]"
   ]
  },
  {
   "cell_type": "code",
   "execution_count": null,
   "id": "c120a581",
   "metadata": {},
   "outputs": [],
   "source": [
    "def take_probabilistic_action(model, formated_state):\n",
    "    probabilities = model.predict(formated_state)\n",
    "    action = np.random.choice(ACTION_SPACE, p=probabilities[0])\n",
    "    return action"
   ]
  },
  {
   "cell_type": "code",
   "execution_count": null,
   "id": "8eba8e6b",
   "metadata": {},
   "outputs": [],
   "source": [
    "def play_and_display(game, model):\n",
    "    game.new_episode()\n",
    "    while not game.is_episode_finished():\n",
    "        state = game.get_state()\n",
    "        screen = preprocess_screen(game.get_state().screen_buffer)\n",
    "        health = game.get_state().game_variables        \n",
    "        action = take_probabilistic_action(model, [np.array([screen]), np.array([health])])        \n",
    "        reward = game.make_action(actions[action], FRAMES_PER_ACTION)\n",
    "    return game.get_total_reward()"
   ]
  },
  {
   "cell_type": "code",
   "execution_count": null,
   "id": "e3145735",
   "metadata": {},
   "outputs": [],
   "source": [
    "game, actions = create_game()\n",
    "model = create_model()\n",
    "play_and_display(game, model)\n",
    "game.close()"
   ]
  },
  {
   "cell_type": "code",
   "execution_count": null,
   "id": "c0656695",
   "metadata": {},
   "outputs": [],
   "source": [
    "def compute_discounted_reward(reward_history, discount_rate=0.99):\n",
    "    discounted_rewards = []\n",
    "    discounted_sum = 0\n",
    "    for r in reward_history[::-1]:\n",
    "        discounted_sum = r + discount_rate * discounted_sum\n",
    "        discounted_rewards.insert(0, discounted_sum)\n",
    "        \n",
    "    # use simple Baseline\n",
    "    discounted_rewards = (discounted_rewards - np.mean(discounted_rewards)) / np.std(discounted_rewards)\n",
    "    \n",
    "    return discounted_rewards"
   ]
  },
  {
   "cell_type": "code",
   "execution_count": null,
   "id": "45fed855",
   "metadata": {},
   "outputs": [],
   "source": [
    "def train(gym_env, model):\n",
    "    game.new_episode()\n",
    "    action_history = []\n",
    "    reward_history = []\n",
    "    # state history\n",
    "    screen_history = []\n",
    "    health_history = []\n",
    "\n",
    "    while not game.is_episode_finished():\n",
    "        state = game.get_state()\n",
    "        \n",
    "        screen = preprocess_screen(game.get_state().screen_buffer)\n",
    "        health = game.get_state().game_variables\n",
    "        screen_history.append(screen)\n",
    "        health_history.append(health)\n",
    "    \n",
    "        action = take_probabilistic_action(model, [np.array([screen]), np.array([health])])\n",
    "        action_history.append(action)\n",
    "        reward = game.make_action(actions[action], FRAMES_PER_ACTION)\n",
    "        reward_history.append(reward)\n",
    "    \n",
    "    # update weights\n",
    "    loss = model.train_on_batch(\n",
    "        x = [np.array(screen_history), np.array(health_history)],\n",
    "        y = utils.to_categorical(action_history),\n",
    "        sample_weight = compute_discounted_reward(reward_history))\n",
    "    \n",
    "    return (loss, game.get_total_reward())"
   ]
  },
  {
   "cell_type": "markdown",
   "id": "4afce0d4",
   "metadata": {},
   "source": [
    "## Training"
   ]
  },
  {
   "cell_type": "code",
   "execution_count": null,
   "id": "280ccef2",
   "metadata": {},
   "outputs": [],
   "source": [
    "game, actions = create_game(display=False)\n",
    "model = create_model()\n",
    "total_reward_history = []"
   ]
  },
  {
   "cell_type": "code",
   "execution_count": null,
   "id": "cbf4e2e4",
   "metadata": {},
   "outputs": [],
   "source": [
    "fig = plt.figure()\n",
    "ax = fig.add_subplot(111)\n",
    "line1, = ax.plot(total_reward_history, color=\"blue\", label=\"Total\")\n",
    "line2, = ax.plot([], color=\"red\", label=\"Moving average\")\n",
    "ax.set_xlim(0, 10000)\n",
    "ax.set_ylim(250, 2100)\n",
    "ax.set_xlabel(\"Simulations\")\n",
    "ax.set_ylabel(\"Reward\")\n",
    "ax.legend()\n",
    "\n",
    "for i in range(8000):\n",
    "    loss, total_reward = train(game, model)\n",
    "    total_reward_history.append(total_reward)\n",
    "    \n",
    "    # draw dynamic plot just because we can\n",
    "    line1.set_xdata(np.arange(len(total_reward_history)))\n",
    "    line1.set_ydata(total_reward_history)\n",
    "    line2.set_xdata(np.arange(len(total_reward_history)))\n",
    "    line2.set_ydata(pd.DataFrame(total_reward_history).rolling(window=10).mean())\n",
    "    fig.canvas.draw()\n",
    "    fig.canvas.flush_events()"
   ]
  },
  {
   "cell_type": "code",
   "execution_count": null,
   "id": "3d51ff1b",
   "metadata": {},
   "outputs": [],
   "source": [
    "game, actions = create_game(display=True)\n",
    "play_and_display(game, model)"
   ]
  },
  {
   "cell_type": "code",
   "execution_count": null,
   "id": "500c124e",
   "metadata": {},
   "outputs": [],
   "source": [
    "game.close()"
   ]
  },
  {
   "cell_type": "code",
   "execution_count": null,
   "id": "e23a1b92",
   "metadata": {},
   "outputs": [],
   "source": [
    "#cv2.imshow(\"image\", screen)\n",
    "#cv2.waitKey(0)\n",
    "#cv2.destroyAllWindows() "
   ]
  },
  {
   "cell_type": "code",
   "execution_count": null,
   "id": "4cdb7732",
   "metadata": {},
   "outputs": [],
   "source": []
  },
  {
   "cell_type": "code",
   "execution_count": 1,
   "id": "5f4fe775",
   "metadata": {
    "ExecuteTime": {
     "end_time": "2021-06-26T00:52:18.083979Z",
     "start_time": "2021-06-26T00:52:18.054979Z"
    }
   },
   "outputs": [
    {
     "data": {
      "text/plain": [
       "array([[0., 0., 0.],\n",
       "       [0., 0., 0.],\n",
       "       [0., 0., 0.],\n",
       "       [0., 0., 0.],\n",
       "       [0., 0., 0.],\n",
       "       [0., 0., 0.],\n",
       "       [0., 0., 0.],\n",
       "       [0., 0., 0.],\n",
       "       [0., 0., 0.],\n",
       "       [0., 0., 0.],\n",
       "       [0., 0., 0.],\n",
       "       [0., 0., 0.],\n",
       "       [0., 0., 0.],\n",
       "       [0., 0., 0.],\n",
       "       [0., 0., 0.],\n",
       "       [0., 0., 0.],\n",
       "       [0., 0., 0.],\n",
       "       [0., 0., 0.],\n",
       "       [0., 0., 0.],\n",
       "       [0., 0., 0.]])"
      ]
     },
     "execution_count": 1,
     "metadata": {},
     "output_type": "execute_result"
    }
   ],
   "source": [
    "np.zeros((20, 3))"
   ]
  },
  {
   "cell_type": "code",
   "execution_count": null,
   "id": "4bdb0d6b",
   "metadata": {},
   "outputs": [],
   "source": [
    "advantages = np.zeros((episode_length, self.action_size))\n",
    "\n",
    "# Episode length is like the minibatch size in DQN\n",
    "for i in range(episode_length):\n",
    "    update_inputs[i,:,:,:] = self.states[i]\n",
    "    advantages[i][self.actions[i]] = discounted_rewards[i]\n",
    "\n",
    "loss = self.model.fit(update_inputs, advantages, nb_epoch=1, verbose=0)\n",
    "self.states, self.actions, self.rewards = [], [], []"
   ]
  }
 ],
 "metadata": {
  "kernelspec": {
   "display_name": "Python 3",
   "language": "python",
   "name": "python3"
  },
  "language_info": {
   "codemirror_mode": {
    "name": "ipython",
    "version": 3
   },
   "file_extension": ".py",
   "mimetype": "text/x-python",
   "name": "python",
   "nbconvert_exporter": "python",
   "pygments_lexer": "ipython3",
   "version": "3.7.4"
  },
  "toc": {
   "base_numbering": 1,
   "nav_menu": {},
   "number_sections": true,
   "sideBar": true,
   "skip_h1_title": false,
   "title_cell": "Table of Contents",
   "title_sidebar": "Contents",
   "toc_cell": false,
   "toc_position": {
    "height": "calc(100% - 180px)",
    "left": "10px",
    "top": "150px",
    "width": "366px"
   },
   "toc_section_display": true,
   "toc_window_display": true
  },
  "varInspector": {
   "cols": {
    "lenName": 16,
    "lenType": 16,
    "lenVar": 40
   },
   "kernels_config": {
    "python": {
     "delete_cmd_postfix": "",
     "delete_cmd_prefix": "del ",
     "library": "var_list.py",
     "varRefreshCmd": "print(var_dic_list())"
    },
    "r": {
     "delete_cmd_postfix": ") ",
     "delete_cmd_prefix": "rm(",
     "library": "var_list.r",
     "varRefreshCmd": "cat(var_dic_list()) "
    }
   },
   "position": {
    "height": "553.85px",
    "left": "1545px",
    "right": "20px",
    "top": "118px",
    "width": "362px"
   },
   "types_to_exclude": [
    "module",
    "function",
    "builtin_function_or_method",
    "instance",
    "_Feature"
   ],
   "window_display": true
  }
 },
 "nbformat": 4,
 "nbformat_minor": 5
}
