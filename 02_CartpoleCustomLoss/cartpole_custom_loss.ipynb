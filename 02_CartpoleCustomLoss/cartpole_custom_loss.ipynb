{
 "cells": [
  {
   "cell_type": "code",
   "execution_count": null,
   "id": "83d96e67",
   "metadata": {},
   "outputs": [],
   "source": [
    "import tensorflow as tf\n",
    "import tensorflow.keras as keras\n",
    "from tensorflow.keras import backend as K\n",
    "from tensorflow.keras import Sequential\n",
    "from tensorflow.keras.layers import Input, Dense\n",
    "import tensorflow.keras.utils as utils\n",
    "import numpy as np\n",
    "import pandas as pd\n",
    "import math\n",
    "import gym\n",
    "import matplotlib.pyplot as plt\n",
    "import ipywidgets as widgets\n",
    "from multiprocessing import Process\n",
    "from threading import Thread\n",
    "\n",
    "%matplotlib nbagg"
   ]
  },
  {
   "cell_type": "markdown",
   "id": "a801baed",
   "metadata": {},
   "source": [
    "Normalerweise sieht die Loss-Funktion so aus:\n",
    "```\n",
    "def custom_loss_function(y_true, y_pred):\n",
    "```\n",
    "In unserem Fall verwenden wir y_true um den Reward and die Trainingsroutine zu übergeben.\n",
    "\n",
    "y_pred ist die die action-Probability, welche während des Trainings aus dem State berechnet wird."
   ]
  },
  {
   "cell_type": "code",
   "execution_count": null,
   "id": "18111b17",
   "metadata": {},
   "outputs": [],
   "source": [
    "#def custom_loss_function(y_true, y_pred):\n",
    "def custom_loss_function(reward, action_prob):\n",
    "    loss = - K.log(action_prob) * reward\n",
    "    #loss = action_prob * reward\n",
    "    loss = K.mean(loss)\n",
    "    return loss"
   ]
  },
  {
   "cell_type": "code",
   "execution_count": null,
   "id": "3ff66087",
   "metadata": {},
   "outputs": [],
   "source": [
    "def create_model():\n",
    "    model = Sequential()\n",
    "    model.add(Input(shape = (4,)))\n",
    "    model.add(Dense(32, activation='relu'))\n",
    "    model.add(Dense(32, activation='relu'))\n",
    "    model.add(Dense(2, activation='softmax'))\n",
    "    model.compile(optimizer='adam', loss=custom_loss_function)\n",
    "    return model"
   ]
  },
  {
   "cell_type": "code",
   "execution_count": null,
   "id": "2c289d75",
   "metadata": {},
   "outputs": [],
   "source": [
    "def take_probabilistic_action(model, state):\n",
    "    probabilities = model.predict(state.reshape(1, -1))\n",
    "    action = np.random.choice(2, p=probabilities[0])\n",
    "    return (action, probabilities)"
   ]
  },
  {
   "cell_type": "code",
   "execution_count": null,
   "id": "6233c6d9",
   "metadata": {},
   "outputs": [],
   "source": [
    "def play_and_display(gym_env, model):\n",
    "    state = gym_env.reset()\n",
    "    done = False\n",
    "    while not done:\n",
    "        gym_env.render()\n",
    "        action, _ = take_probabilistic_action(model, state)\n",
    "        state, reward, done, info = gym_env.step(action)\n",
    "    gym_env.close()"
   ]
  },
  {
   "cell_type": "code",
   "execution_count": null,
   "id": "38678a32",
   "metadata": {},
   "outputs": [],
   "source": [
    "#play_and_display(gym.make('CartPole-v0'), create_model())"
   ]
  },
  {
   "cell_type": "code",
   "execution_count": null,
   "id": "dc079b57",
   "metadata": {},
   "outputs": [],
   "source": [
    "def compute_discounted_reward(reward_history, discount_rate=0.99):\n",
    "    discounted_rewards = []\n",
    "    discounted_sum = 0\n",
    "    for r in reward_history[::-1]:\n",
    "        discounted_sum = r + discount_rate * discounted_sum\n",
    "        discounted_rewards.insert(0, discounted_sum)\n",
    "        \n",
    "    # use simple Baseline\n",
    "    discounted_rewards = (discounted_rewards - np.mean(discounted_rewards)) / np.std(discounted_rewards)\n",
    "    \n",
    "    return discounted_rewards"
   ]
  },
  {
   "cell_type": "code",
   "execution_count": null,
   "id": "65dc503a",
   "metadata": {},
   "outputs": [],
   "source": [
    "#def format_rewards(rewards, action_space=2):\n",
    "#    return np.full((action_space, rewards.shape[0]), rewards).T\n",
    "def format_rewards(action_history, reward_history, action_space=2):\n",
    "    formated_ah = utils.to_categorical(action_history, num_classes=action_space)\n",
    "    formated_rw = np.full((action_space, reward_history.shape[0]), reward_history).T\n",
    "    return formated_ah * formated_rw"
   ]
  },
  {
   "cell_type": "code",
   "execution_count": null,
   "id": "5f629204",
   "metadata": {},
   "outputs": [],
   "source": [
    "def train(gym_env, model):\n",
    "    state = gym_env.reset()\n",
    "    state_history = []\n",
    "    action_history = []\n",
    "    reward_history = []\n",
    "\n",
    "    done = False\n",
    "    # simulation\n",
    "    while not done:\n",
    "        action, _ = take_probabilistic_action(model, state)\n",
    "        action_history.append(action)\n",
    "        state_history.append(state)\n",
    "        state, reward, done, info = gym_env.step(action)\n",
    "        reward_history.append(reward)\n",
    "    gym_env.close()\n",
    "    \n",
    "    # update weights\n",
    "    loss = model.train_on_batch(\n",
    "        x = np.array(state_history),\n",
    "        y = format_rewards(action_history, compute_discounted_reward(reward_history)))\n",
    "    \n",
    "    return (loss, np.sum(reward_history))"
   ]
  },
  {
   "cell_type": "markdown",
   "id": "343be627",
   "metadata": {},
   "source": [
    "## Play!"
   ]
  },
  {
   "cell_type": "code",
   "execution_count": null,
   "id": "8b55ff4a",
   "metadata": {},
   "outputs": [],
   "source": [
    "env = gym.make('CartPole-v0')\n",
    "model = create_model()\n",
    "total_reward_history = []"
   ]
  },
  {
   "cell_type": "code",
   "execution_count": null,
   "id": "557b95fc",
   "metadata": {
    "scrolled": false
   },
   "outputs": [],
   "source": [
    "fig = plt.figure()\n",
    "ax = fig.add_subplot(111)\n",
    "line1, = ax.plot(total_reward_history, color=\"blue\", label=\"Total\")\n",
    "line2, = ax.plot([], color=\"red\", label=\"Moving average\")\n",
    "ax.set_xlim(0, 500)\n",
    "ax.set_ylim(0, 250)\n",
    "ax.set_xlabel(\"Simulations\")\n",
    "ax.set_ylabel(\"Reward\")\n",
    "ax.legend()\n",
    "\n",
    "for i in range(500):\n",
    "    loss, total_reward = train(env, model)\n",
    "    total_reward_history.append(total_reward)\n",
    "    \n",
    "    # draw dynamic plot just because we can\n",
    "    line1.set_xdata(np.arange(len(total_reward_history)))\n",
    "    line1.set_ydata(total_reward_history)\n",
    "    line2.set_xdata(np.arange(len(total_reward_history)))\n",
    "    line2.set_ydata(pd.DataFrame(total_reward_history).rolling(window=10).mean())\n",
    "    fig.canvas.draw()\n",
    "    fig.canvas.flush_events()"
   ]
  },
  {
   "cell_type": "markdown",
   "id": "33c66a91",
   "metadata": {},
   "source": [
    "## Multithreading"
   ]
  },
  {
   "cell_type": "code",
   "execution_count": null,
   "id": "d59ccbe2",
   "metadata": {},
   "outputs": [],
   "source": [
    "# simple struct-class to keep track of a simulation's history \n",
    "class History:\n",
    "    def __init__(self):\n",
    "        self.state = []\n",
    "        self.action = []\n",
    "        self.reward = []\n",
    "    \n",
    "    def append(self, state, action, reward):\n",
    "        self.state.append(state)\n",
    "        self.action.append(action)\n",
    "        self.reward.append(reward)"
   ]
  },
  {
   "cell_type": "code",
   "execution_count": null,
   "id": "3cfeb525",
   "metadata": {},
   "outputs": [],
   "source": [
    "def create_batch(model_weights):\n",
    "#def create_batch(model_weights, history_ref=[{}], i=0):\n",
    "    gym_env = gym.make('CartPole-v0')\n",
    "    model = create_model()\n",
    "    model.set_weights(model_weights)\n",
    "    state = gym_env.reset()\n",
    "    history = History()\n",
    "\n",
    "    done = False\n",
    "    # simulation\n",
    "    while not done:\n",
    "        action, _ = take_probabilistic_action(model, state)\n",
    "        new_state, reward, done, info = gym_env.step(action)\n",
    "        history.append(state, action, reward)\n",
    "        state = new_state\n",
    "    \n",
    "    return history"
   ]
  },
  {
   "cell_type": "code",
   "execution_count": null,
   "id": "d3e66481",
   "metadata": {},
   "outputs": [],
   "source": [
    "def create_multibatch(model, n):\n",
    "    results = [{} for i in range(n)]\n",
    "    threads = []\n",
    "\n",
    "    for i in range(n):\n",
    "        t = Process(target=create_batch, args=(model.get_weights(), results, i))\n",
    "        threads.append(t)\n",
    "        t.start()\n",
    "\n",
    "    for t in threads:\n",
    "        t.join()\n",
    "    \n",
    "    return results"
   ]
  },
  {
   "cell_type": "code",
   "execution_count": null,
   "id": "86784d27",
   "metadata": {},
   "outputs": [],
   "source": [
    "def weasel_histories(model, histories):\n",
    "    # states\n",
    "    x = np.vstack(\n",
    "        [histories[i].state for i in range(len(histories))]\n",
    "    )\n",
    "    # formated action & reward data\n",
    "    y = np.vstack(\n",
    "        [format_rewards(histories[i].action, compute_discounted_reward(histories[i].reward)) for i in range(len(histories))]\n",
    "    )\n",
    "    \n",
    "    loss = model.train_on_batch(x, y)\n",
    "    average_reward = np.mean([np.sum(histories[i].reward) for i in range(4)])\n",
    "    return (loss, average_reward)"
   ]
  },
  {
   "cell_type": "markdown",
   "id": "be7c61a6",
   "metadata": {},
   "source": [
    "## Lets Go"
   ]
  },
  {
   "cell_type": "code",
   "execution_count": null,
   "id": "092ba280",
   "metadata": {},
   "outputs": [],
   "source": [
    "# multithreading! :D\n",
    "THREADS = 5\n",
    "model = create_model()\n",
    "total_reward_history = []"
   ]
  },
  {
   "cell_type": "code",
   "execution_count": null,
   "id": "b78c2f2d",
   "metadata": {},
   "outputs": [],
   "source": [
    "from multiprocessing import Process, Pool\n",
    "\n",
    "\n",
    "model = create_model()\n",
    "\n",
    "with Pool(5) as p:\n",
    "    print(p.map(create_batch, [model.get_weights(), model.get_weights()]))"
   ]
  },
  {
   "cell_type": "code",
   "execution_count": null,
   "id": "c310d804",
   "metadata": {},
   "outputs": [],
   "source": [
    "#batch = create_multibatch(model, games)\n",
    "#_, total_reward = weasel_histories(model, batch)\n",
    "\n",
    "results = [{} for i in range(5)]\n",
    "threads = []\n",
    "\n",
    "for i in range(5):\n",
    "    t = Thread(target=create_batch, args=(model.get_weights(), results, i))\n",
    "    threads.append(t)\n",
    "    t.start()\n",
    "\n",
    "for t in threads:\n",
    "    t.join()\n"
   ]
  },
  {
   "cell_type": "code",
   "execution_count": null,
   "id": "fedf53c9",
   "metadata": {},
   "outputs": [],
   "source": [
    "results"
   ]
  },
  {
   "cell_type": "code",
   "execution_count": null,
   "id": "963b2d28",
   "metadata": {},
   "outputs": [],
   "source": [
    "fig = plt.figure()\n",
    "ax = fig.add_subplot(111)\n",
    "line1, = ax.plot(total_reward_history, color=\"blue\", label=\"Total\")\n",
    "line2, = ax.plot([], color=\"red\", label=\"Moving average\")\n",
    "ax.set_xlim(0, 500)\n",
    "ax.set_ylim(0, 250)\n",
    "ax.set_xlabel(\"Simulations\")\n",
    "ax.set_ylabel(\"Reward\")\n",
    "ax.legend()\n",
    "\n",
    "for i in range(10):\n",
    "    batch = create_multibatch(model, THREADS)\n",
    "    _, total_reward = weasel_histories(model, batch)\n",
    "    #loss, total_reward = train(env, model)\n",
    "    total_reward_history.append(total_reward)\n",
    "    \n",
    "    # draw dynamic plot just because we can\n",
    "    line1.set_xdata(np.arange(len(total_reward_history)))\n",
    "    line1.set_ydata(total_reward_history)\n",
    "    line2.set_xdata(np.arange(len(total_reward_history)))\n",
    "    line2.set_ydata(pd.DataFrame(total_reward_history).rolling(window=10).mean())\n",
    "    fig.canvas.draw()\n",
    "    fig.canvas.flush_events()"
   ]
  },
  {
   "cell_type": "code",
   "execution_count": null,
   "id": "6ec09f4a",
   "metadata": {},
   "outputs": [],
   "source": [
    "play_and_display(gym.make('CartPole-v0'), model)"
   ]
  },
  {
   "cell_type": "code",
   "execution_count": null,
   "id": "05d95abb",
   "metadata": {},
   "outputs": [],
   "source": []
  },
  {
   "cell_type": "code",
   "execution_count": null,
   "id": "d8803396",
   "metadata": {},
   "outputs": [],
   "source": []
  },
  {
   "cell_type": "code",
   "execution_count": null,
   "id": "0edaa899",
   "metadata": {},
   "outputs": [],
   "source": []
  },
  {
   "cell_type": "code",
   "execution_count": null,
   "id": "2ca12078",
   "metadata": {},
   "outputs": [],
   "source": [
    "play_and_display(env, model)"
   ]
  },
  {
   "cell_type": "code",
   "execution_count": null,
   "id": "959ae788",
   "metadata": {},
   "outputs": [],
   "source": [
    "model.save('01_CartpolePOC/model')"
   ]
  },
  {
   "cell_type": "markdown",
   "id": "64dfe8c5",
   "metadata": {},
   "source": [
    "## Load the old Model"
   ]
  },
  {
   "cell_type": "code",
   "execution_count": null,
   "id": "685a3357",
   "metadata": {},
   "outputs": [],
   "source": [
    "model = keras.models.load_model('01_CartpolePOC/model')"
   ]
  }
 ],
 "metadata": {
  "kernelspec": {
   "display_name": "Python 3",
   "language": "python",
   "name": "python3"
  },
  "language_info": {
   "codemirror_mode": {
    "name": "ipython",
    "version": 3
   },
   "file_extension": ".py",
   "mimetype": "text/x-python",
   "name": "python",
   "nbconvert_exporter": "python",
   "pygments_lexer": "ipython3",
   "version": "3.7.4"
  },
  "toc": {
   "base_numbering": 1,
   "nav_menu": {},
   "number_sections": true,
   "sideBar": true,
   "skip_h1_title": false,
   "title_cell": "Table of Contents",
   "title_sidebar": "Contents",
   "toc_cell": false,
   "toc_position": {
    "height": "calc(100% - 180px)",
    "left": "10px",
    "top": "150px",
    "width": "384px"
   },
   "toc_section_display": true,
   "toc_window_display": true
  },
  "varInspector": {
   "cols": {
    "lenName": 16,
    "lenType": 16,
    "lenVar": 40
   },
   "kernels_config": {
    "python": {
     "delete_cmd_postfix": "",
     "delete_cmd_prefix": "del ",
     "library": "var_list.py",
     "varRefreshCmd": "print(var_dic_list())"
    },
    "r": {
     "delete_cmd_postfix": ") ",
     "delete_cmd_prefix": "rm(",
     "library": "var_list.r",
     "varRefreshCmd": "cat(var_dic_list()) "
    }
   },
   "position": {
    "height": "390.85px",
    "left": "1551px",
    "right": "20px",
    "top": "120px",
    "width": "349px"
   },
   "types_to_exclude": [
    "module",
    "function",
    "builtin_function_or_method",
    "instance",
    "_Feature"
   ],
   "window_display": true
  }
 },
 "nbformat": 4,
 "nbformat_minor": 5
}
