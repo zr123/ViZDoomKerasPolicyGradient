{
 "cells": [
  {
   "cell_type": "code",
   "execution_count": null,
   "id": "83d96e67",
   "metadata": {},
   "outputs": [],
   "source": [
    "import tensorflow as tf\n",
    "import tensorflow.keras as keras\n",
    "from tensorflow.keras import backend as K\n",
    "from tensorflow.keras import Sequential\n",
    "from tensorflow.keras.layers import Input, Dense\n",
    "import tensorflow.keras.utils as utils\n",
    "import numpy as np\n",
    "import math\n",
    "import gym\n",
    "import pandas as pd\n",
    "import matplotlib.pyplot as plt\n",
    "\n",
    "%matplotlib nbagg"
   ]
  },
  {
   "cell_type": "code",
   "execution_count": null,
   "id": "3ff66087",
   "metadata": {},
   "outputs": [],
   "source": [
    "def create_model():\n",
    "    model = Sequential()\n",
    "    model.add(Input(shape = (4,)))\n",
    "    model.add(Dense(32, activation='relu'))\n",
    "    model.add(Dense(32, activation='relu'))\n",
    "    model.add(Dense(2, activation='softmax'))\n",
    "    model.compile(optimizer='adam', loss='categorical_crossentropy')\n",
    "    return model"
   ]
  },
  {
   "cell_type": "code",
   "execution_count": null,
   "id": "2c289d75",
   "metadata": {},
   "outputs": [],
   "source": [
    "def take_probabilistic_action(model, state):\n",
    "    probabilities = model.predict(state.reshape(1, -1))\n",
    "    action = np.random.choice(2, p=probabilities[0])\n",
    "    return action"
   ]
  },
  {
   "cell_type": "code",
   "execution_count": null,
   "id": "6233c6d9",
   "metadata": {},
   "outputs": [],
   "source": [
    "def play_and_display(gym_env, model):\n",
    "    state = gym_env.reset()\n",
    "    done = False\n",
    "    while not done:\n",
    "        gym_env.render()\n",
    "        action = take_probabilistic_action(model, state)\n",
    "        state, reward, done, info = gym_env.step(action)\n",
    "    gym_env.close()"
   ]
  },
  {
   "cell_type": "code",
   "execution_count": null,
   "id": "ab7f1404",
   "metadata": {},
   "outputs": [],
   "source": [
    "def compute_discounted_R(R, discount_rate=.99):\n",
    "    discounted_r = np.zeros_like(R, dtype=np.float32)\n",
    "    running_add = 0\n",
    "    for t in reversed(range(len(R))):\n",
    "        running_add = running_add * discount_rate + R[t]\n",
    "        discounted_r[t] = running_add\n",
    "\n",
    "    # use simple Baseline\n",
    "    discounted_r = (discounted_r - discounted_r.mean()) / discounted_r.std()\n",
    "\n",
    "    return discounted_r"
   ]
  },
  {
   "cell_type": "code",
   "execution_count": null,
   "id": "5f629204",
   "metadata": {},
   "outputs": [],
   "source": [
    "def train(gym_env, model, duration=100, render=False):\n",
    "    state = gym_env.reset()\n",
    "    state_history = []\n",
    "    action_history = []\n",
    "    reward_history = []\n",
    "    cummulative_reward = 0\n",
    "\n",
    "    done = False\n",
    "    # simulation\n",
    "    while not done:\n",
    "        if render:\n",
    "            gym_env.render()\n",
    "        action = take_probabilistic_action(model, state)\n",
    "        action_history.append(action)\n",
    "        state_history.append(state)\n",
    "        state, reward, done, info = gym_env.step(action)\n",
    "        cummulative_reward += reward\n",
    "        reward_history.append(reward)\n",
    "    gym_env.close()\n",
    "    \n",
    "    # update weights\n",
    "    loss = model.train_on_batch(\n",
    "        x = np.array(state_history),\n",
    "        y = utils.to_categorical(action_history),\n",
    "        sample_weight = compute_discounted_R(reward_history))\n",
    "    \n",
    "    return (loss, np.sum(reward_history))"
   ]
  },
  {
   "cell_type": "code",
   "execution_count": null,
   "id": "8b55ff4a",
   "metadata": {},
   "outputs": [],
   "source": [
    "env = gym.make('CartPole-v0')\n",
    "model = create_model()\n",
    "total_reward_history = []"
   ]
  },
  {
   "cell_type": "code",
   "execution_count": null,
   "id": "557b95fc",
   "metadata": {},
   "outputs": [],
   "source": [
    "fig = plt.figure()\n",
    "ax = fig.add_subplot(111)\n",
    "line1, = ax.plot(total_reward_history, color=\"blue\", label=\"Total\")\n",
    "line2, = ax.plot([], color=\"red\", label=\"Moving average\")\n",
    "ax.set_xlim(0, 500)\n",
    "ax.set_ylim(0, 250)\n",
    "ax.set_xlabel(\"Simulations\")\n",
    "ax.set_ylabel(\"Reward\")\n",
    "ax.legend()\n",
    "\n",
    "for i in range(500):\n",
    "    loss, total_reward = train(env, model)\n",
    "    total_reward_history.append(total_reward)\n",
    "    \n",
    "    # draw dynamic plot just because we can\n",
    "    line1.set_xdata(np.arange(len(total_reward_history)))\n",
    "    line1.set_ydata(total_reward_history)\n",
    "    line2.set_xdata(np.arange(len(total_reward_history)))\n",
    "    line2.set_ydata(pd.DataFrame(total_reward_history).rolling(window=10).mean())\n",
    "    fig.canvas.draw()\n",
    "    fig.canvas.flush_events()"
   ]
  },
  {
   "cell_type": "code",
   "execution_count": null,
   "id": "2ca12078",
   "metadata": {},
   "outputs": [],
   "source": [
    "play_and_display(env, model)"
   ]
  },
  {
   "cell_type": "code",
   "execution_count": null,
   "id": "ae17781f",
   "metadata": {},
   "outputs": [],
   "source": [
    "model.save('model')"
   ]
  },
  {
   "cell_type": "markdown",
   "id": "2fa83fd0",
   "metadata": {},
   "source": [
    "## Load Model"
   ]
  },
  {
   "cell_type": "code",
   "execution_count": null,
   "id": "6294b6a1",
   "metadata": {},
   "outputs": [],
   "source": [
    "model = keras.models.load_model('01_CartpolePOC/model')"
   ]
  }
 ],
 "metadata": {
  "kernelspec": {
   "display_name": "Python 3",
   "language": "python",
   "name": "python3"
  },
  "language_info": {
   "codemirror_mode": {
    "name": "ipython",
    "version": 3
   },
   "file_extension": ".py",
   "mimetype": "text/x-python",
   "name": "python",
   "nbconvert_exporter": "python",
   "pygments_lexer": "ipython3",
   "version": "3.7.4"
  },
  "toc": {
   "base_numbering": 1,
   "nav_menu": {},
   "number_sections": true,
   "sideBar": true,
   "skip_h1_title": false,
   "title_cell": "Table of Contents",
   "title_sidebar": "Contents",
   "toc_cell": false,
   "toc_position": {
    "height": "calc(100% - 180px)",
    "left": "10px",
    "top": "150px",
    "width": "328px"
   },
   "toc_section_display": true,
   "toc_window_display": true
  },
  "varInspector": {
   "cols": {
    "lenName": 16,
    "lenType": 16,
    "lenVar": 40
   },
   "kernels_config": {
    "python": {
     "delete_cmd_postfix": "",
     "delete_cmd_prefix": "del ",
     "library": "var_list.py",
     "varRefreshCmd": "print(var_dic_list())"
    },
    "r": {
     "delete_cmd_postfix": ") ",
     "delete_cmd_prefix": "rm(",
     "library": "var_list.r",
     "varRefreshCmd": "cat(var_dic_list()) "
    }
   },
   "position": {
    "height": "484.85px",
    "left": "1545px",
    "right": "20px",
    "top": "120px",
    "width": "355px"
   },
   "types_to_exclude": [
    "module",
    "function",
    "builtin_function_or_method",
    "instance",
    "_Feature"
   ],
   "window_display": true
  }
 },
 "nbformat": 4,
 "nbformat_minor": 5
}
