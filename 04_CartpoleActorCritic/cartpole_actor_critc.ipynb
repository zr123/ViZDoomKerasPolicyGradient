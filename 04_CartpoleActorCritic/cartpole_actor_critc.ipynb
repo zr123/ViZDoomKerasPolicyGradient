{
 "cells": [
  {
   "cell_type": "code",
   "execution_count": null,
   "id": "83d96e67",
   "metadata": {},
   "outputs": [],
   "source": [
    "import tensorflow as tf\n",
    "import tensorflow.keras as keras\n",
    "from tensorflow.keras import backend as K\n",
    "from tensorflow.keras import Sequential\n",
    "from tensorflow.keras.layers import Input, Dense\n",
    "import tensorflow.keras.utils as utils\n",
    "import numpy as np\n",
    "import pandas as pd\n",
    "import math\n",
    "import gym\n",
    "import matplotlib.pyplot as plt\n",
    "from multiprocessing import Process\n",
    "from threading import Thread\n",
    "\n",
    "%matplotlib nbagg"
   ]
  },
  {
   "cell_type": "code",
   "execution_count": null,
   "id": "18111b17",
   "metadata": {},
   "outputs": [],
   "source": [
    "#def custom_loss_function(y_true, y_pred):\n",
    "def custom_loss_function(reward, action_prob):\n",
    "    loss = K.log(action_prob) * reward\n",
    "    loss = K.sum(loss)\n",
    "    return - loss"
   ]
  },
  {
   "cell_type": "code",
   "execution_count": null,
   "id": "3ff66087",
   "metadata": {},
   "outputs": [],
   "source": [
    "def create_actor_model():\n",
    "    model = Sequential()\n",
    "    model.add(Input(shape = (4,)))\n",
    "    model.add(Dense(32, activation='relu'))\n",
    "    model.add(Dense(32, activation='relu'))\n",
    "    model.add(Dense(2, activation='softmax'))\n",
    "    model.compile(optimizer='adam', loss=custom_loss_function)\n",
    "    return model"
   ]
  },
  {
   "cell_type": "code",
   "execution_count": null,
   "id": "ba1acde0",
   "metadata": {},
   "outputs": [],
   "source": [
    "def create_critic_model():\n",
    "    model = Sequential()\n",
    "    model.add(Input(shape = (4,)))\n",
    "    model.add(Dense(32, activation='relu'))\n",
    "    model.add(Dense(32, activation='relu'))\n",
    "    model.add(Dense(1))\n",
    "    model.compile(optimizer='adam', loss=\"Huber\")\n",
    "    return model"
   ]
  },
  {
   "cell_type": "code",
   "execution_count": null,
   "id": "2c289d75",
   "metadata": {},
   "outputs": [],
   "source": [
    "def take_probabilistic_action(model, state):\n",
    "    probabilities = model.predict(state.reshape(1, -1))\n",
    "    action = np.random.choice(2, p=probabilities[0])\n",
    "    return (action, probabilities)"
   ]
  },
  {
   "cell_type": "code",
   "execution_count": null,
   "id": "6233c6d9",
   "metadata": {},
   "outputs": [],
   "source": [
    "def play_and_display(gym_env, model):\n",
    "    state = gym_env.reset()\n",
    "    done = False\n",
    "    while not done:\n",
    "        gym_env.render()\n",
    "        action, _ = take_probabilistic_action(model, state)\n",
    "        state, reward, done, info = gym_env.step(action)\n",
    "    gym_env.close()"
   ]
  },
  {
   "cell_type": "code",
   "execution_count": null,
   "id": "dc079b57",
   "metadata": {},
   "outputs": [],
   "source": [
    "# old\n",
    "def compute_discounted_reward(reward_history, discount_rate=0.99):\n",
    "    discounted_rewards = []\n",
    "    discounted_sum = 0\n",
    "    for r in reward_history[::-1]:\n",
    "        discounted_sum = r + discount_rate * discounted_sum\n",
    "        discounted_rewards.insert(0, discounted_sum)\n",
    "        \n",
    "    # use simple Baseline\n",
    "    discounted_rewards = (discounted_rewards - np.mean(discounted_rewards)) / np.std(discounted_rewards)\n",
    "    \n",
    "    return discounted_rewards\n",
    "\n",
    "\n",
    "def compute_discounted_reward(reward_history, discount_factor=0.99):\n",
    "    dsr = tf.scan(lambda agg, x: discount_factor * agg + x, rewards, reverse=True)\n",
    "    # normalize\n",
    "    return (dsr - tf.math.reduce_mean(dsr)) / tf.math.reduce_std(dsr)"
   ]
  },
  {
   "cell_type": "code",
   "execution_count": null,
   "id": "65dc503a",
   "metadata": {},
   "outputs": [],
   "source": [
    "#def format_rewards(rewards, action_space=2):\n",
    "#    return np.full((action_space, rewards.shape[0]), rewards).T\n",
    "def format_rewards(action_history, reward_history, action_space=2):\n",
    "    formated_ah = utils.to_categorical(action_history, num_classes=action_space)\n",
    "    formated_rw = np.full((action_space, reward_history.shape[0]), reward_history).T\n",
    "    return formated_ah * formated_rw"
   ]
  },
  {
   "cell_type": "code",
   "execution_count": null,
   "id": "a669038a",
   "metadata": {},
   "outputs": [],
   "source": [
    "def run_simulation(gym_env, actor, critic):\n",
    "    state = gym_env.reset()\n",
    "    state_history = []\n",
    "    action_history = []\n",
    "    critic_history = []\n",
    "    reward_history = []\n",
    "\n",
    "    done = False\n",
    "    while not done:\n",
    "        action, _ = take_probabilistic_action(actor, state)\n",
    "        critic_history.append(critic.predict(state.reshape(1, -1)))\n",
    "        action_history.append(action)\n",
    "        state_history.append(state)\n",
    "        state, reward, done, info = gym_env.step(action)\n",
    "        reward_history.append(reward)\n",
    "        \n",
    "    return (state_history, action_history, critic_history, reward_history)"
   ]
  },
  {
   "cell_type": "code",
   "execution_count": null,
   "id": "7b07706c",
   "metadata": {},
   "outputs": [],
   "source": [
    "def train(gym_env, actor, critic):\n",
    "    state_history, action_history, critic_history, reward_history = run_simulation(gym_env, actor, critic)\n",
    "    discounted_rewards = compute_discounted_reward(reward_history)\n",
    "    \n",
    "    # update critic\n",
    "    critic_loss = critic.train_on_batch(x=np.array(state_history), y=discounted_rewards)\n",
    "    \n",
    "    # calculate advantage\n",
    "    advantage = discounted_rewards - np.array(critic_history).flatten()\n",
    "    \n",
    "    # update actor\n",
    "    actor_loss = actor.train_on_batch(\n",
    "        x = np.array(state_history),\n",
    "        y = format_rewards(action_history, advantage))\n",
    "    \n",
    "    return actor_loss, critic_loss, np.sum(reward_history)"
   ]
  },
  {
   "cell_type": "markdown",
   "id": "343be627",
   "metadata": {},
   "source": [
    "## Play!"
   ]
  },
  {
   "cell_type": "code",
   "execution_count": null,
   "id": "8b55ff4a",
   "metadata": {},
   "outputs": [],
   "source": [
    "env = gym.make('CartPole-v0')\n",
    "actor = create_actor_model()\n",
    "critic = create_critic_model()\n",
    "total_reward_history = []"
   ]
  },
  {
   "cell_type": "code",
   "execution_count": null,
   "id": "557b95fc",
   "metadata": {
    "scrolled": false
   },
   "outputs": [],
   "source": [
    "fig = plt.figure()\n",
    "ax = fig.add_subplot(111)\n",
    "line1, = ax.plot(total_reward_history, color=\"blue\", label=\"Total\")\n",
    "line2, = ax.plot([], color=\"red\", label=\"Moving average\")\n",
    "ax.set_xlabel(\"Simulations\")\n",
    "ax.set_ylabel(\"Reward\")\n",
    "ax.set_xlim(0, 500)\n",
    "ax.set_ylim(0, 250)\n",
    "ax.legend()\n",
    "\n",
    "for i in range(500):\n",
    "    actor_loss, critic_loss, total_reward = train(env, actor, critic)\n",
    "    total_reward_history.append(total_reward)\n",
    "    \n",
    "    # draw dynamic plot just because we can\n",
    "    line1.set_xdata(np.arange(len(total_reward_history)))\n",
    "    line1.set_ydata(total_reward_history)\n",
    "    line2.set_xdata(np.arange(len(total_reward_history)))\n",
    "    line2.set_ydata(pd.DataFrame(total_reward_history).rolling(window=10).mean())\n",
    "    fig.canvas.draw()\n",
    "    fig.canvas.flush_events()"
   ]
  },
  {
   "cell_type": "code",
   "execution_count": null,
   "id": "0f7d2f8e",
   "metadata": {},
   "outputs": [],
   "source": [
    "actor.save(\"actor_model\")\n",
    "critic.save(\"critic_model\")"
   ]
  },
  {
   "cell_type": "markdown",
   "id": "7a6d940a",
   "metadata": {},
   "source": [
    "## Load / Display"
   ]
  },
  {
   "cell_type": "code",
   "execution_count": null,
   "id": "207aaaab",
   "metadata": {},
   "outputs": [],
   "source": [
    "env = gym.make('CartPole-v0')\n",
    "actor = keras.models.load_model(\"actor_model\", compile=False)\n",
    "actor.compile(optimizer='adam', loss=custom_loss_function)"
   ]
  },
  {
   "cell_type": "code",
   "execution_count": null,
   "id": "1738e908",
   "metadata": {},
   "outputs": [],
   "source": [
    "play_and_display(env, actor)"
   ]
  },
  {
   "cell_type": "code",
   "execution_count": null,
   "id": "89cbe714",
   "metadata": {},
   "outputs": [],
   "source": []
  }
 ],
 "metadata": {
  "kernelspec": {
   "display_name": "Python 3",
   "language": "python",
   "name": "python3"
  },
  "language_info": {
   "codemirror_mode": {
    "name": "ipython",
    "version": 3
   },
   "file_extension": ".py",
   "mimetype": "text/x-python",
   "name": "python",
   "nbconvert_exporter": "python",
   "pygments_lexer": "ipython3",
   "version": "3.7.2"
  },
  "toc": {
   "base_numbering": 1,
   "nav_menu": {},
   "number_sections": true,
   "sideBar": true,
   "skip_h1_title": false,
   "title_cell": "Table of Contents",
   "title_sidebar": "Contents",
   "toc_cell": false,
   "toc_position": {
    "height": "calc(100% - 180px)",
    "left": "10px",
    "top": "150px",
    "width": "384px"
   },
   "toc_section_display": true,
   "toc_window_display": true
  },
  "varInspector": {
   "cols": {
    "lenName": 16,
    "lenType": 16,
    "lenVar": 40
   },
   "kernels_config": {
    "python": {
     "delete_cmd_postfix": "",
     "delete_cmd_prefix": "del ",
     "library": "var_list.py",
     "varRefreshCmd": "print(var_dic_list())"
    },
    "r": {
     "delete_cmd_postfix": ") ",
     "delete_cmd_prefix": "rm(",
     "library": "var_list.r",
     "varRefreshCmd": "cat(var_dic_list()) "
    }
   },
   "position": {
    "height": "390.85px",
    "left": "1551px",
    "right": "20px",
    "top": "120px",
    "width": "349px"
   },
   "types_to_exclude": [
    "module",
    "function",
    "builtin_function_or_method",
    "instance",
    "_Feature"
   ],
   "window_display": true
  }
 },
 "nbformat": 4,
 "nbformat_minor": 5
}
