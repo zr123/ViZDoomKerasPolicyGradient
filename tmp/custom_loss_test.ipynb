{
 "cells": [
  {
   "cell_type": "code",
   "execution_count": 1,
   "id": "cc39b832",
   "metadata": {
    "ExecuteTime": {
     "end_time": "2021-06-26T07:13:43.168741Z",
     "start_time": "2021-06-26T07:13:40.989848Z"
    }
   },
   "outputs": [],
   "source": [
    "import tensorflow as tf\n",
    "from tensorflow import keras\n",
    "from tensorflow.keras import layers\n",
    "import tensorflow.keras.backend as K"
   ]
  },
  {
   "cell_type": "code",
   "execution_count": null,
   "id": "ffbe52de",
   "metadata": {
    "ExecuteTime": {
     "end_time": "2021-06-23T08:09:13.849978Z",
     "start_time": "2021-06-23T08:09:12.281298Z"
    }
   },
   "outputs": [],
   "source": [
    "(x_train, y_train), (x_test, y_test) = keras.datasets.mnist.load_data()"
   ]
  },
  {
   "cell_type": "code",
   "execution_count": null,
   "id": "bd182686",
   "metadata": {
    "ExecuteTime": {
     "end_time": "2021-06-23T08:10:38.034443Z",
     "start_time": "2021-06-23T08:10:37.873439Z"
    }
   },
   "outputs": [],
   "source": [
    "# Model / data parameters\n",
    "num_classes = 10\n",
    "input_shape = (28, 28, 1)\n",
    "\n",
    "# Scale images to the [0, 1] range\n",
    "x_train = x_train.astype(\"float32\") / 255\n",
    "x_test = x_test.astype(\"float32\") / 255\n",
    "# Make sure images have shape (28, 28, 1)\n",
    "x_train = np.expand_dims(x_train, -1)\n",
    "x_test = np.expand_dims(x_test, -1)\n",
    "print(\"x_train shape:\", x_train.shape)\n",
    "print(x_train.shape[0], \"train samples\")\n",
    "print(x_test.shape[0], \"test samples\")\n",
    "\n",
    "\n",
    "# convert class vectors to binary class matrices\n",
    "y_train = keras.utils.to_categorical(y_train, num_classes)\n",
    "y_test = keras.utils.to_categorical(y_test, num_classes)"
   ]
  },
  {
   "cell_type": "code",
   "execution_count": null,
   "id": "6d09c4f2",
   "metadata": {
    "ExecuteTime": {
     "end_time": "2021-06-23T09:15:12.938909Z",
     "start_time": "2021-06-23T09:15:12.863885Z"
    }
   },
   "outputs": [],
   "source": [
    "model = keras.Sequential(\n",
    "    [\n",
    "        keras.Input(shape=input_shape),\n",
    "        layers.Conv2D(32, kernel_size=(3, 3), activation=\"relu\"),\n",
    "        layers.MaxPooling2D(pool_size=(2, 2)),\n",
    "        layers.Conv2D(64, kernel_size=(3, 3), activation=\"relu\"),\n",
    "        layers.MaxPooling2D(pool_size=(2, 2)),\n",
    "        layers.Flatten(),\n",
    "        layers.Dropout(0.5),\n",
    "        layers.Dense(num_classes, activation=\"softmax\"),\n",
    "    ]\n",
    ")\n",
    "\n",
    "model.summary()"
   ]
  },
  {
   "cell_type": "code",
   "execution_count": null,
   "id": "47fc7af2",
   "metadata": {
    "ExecuteTime": {
     "end_time": "2021-06-23T08:15:24.396754Z",
     "start_time": "2021-06-23T08:11:06.664846Z"
    }
   },
   "outputs": [],
   "source": [
    "batch_size = 128\n",
    "epochs = 15\n",
    "\n",
    "model.compile(loss=\"categorical_crossentropy\", optimizer=\"adam\", metrics=[\"accuracy\"])\n",
    "\n",
    "model.fit(x_train, y_train, batch_size=batch_size, epochs=epochs, validation_split=0.1)"
   ]
  },
  {
   "cell_type": "code",
   "execution_count": 2,
   "id": "1ebd1902",
   "metadata": {
    "ExecuteTime": {
     "end_time": "2021-06-25T14:19:25.187398Z",
     "start_time": "2021-06-25T14:19:25.174399Z"
    }
   },
   "outputs": [],
   "source": [
    "def custom_catcross(y_true, y_pred):\n",
    "    return tf.math.reduce_mean(\n",
    "        - tf.math.reduce_sum(\n",
    "            y_true * tf.math.log(y_pred), axis=1\n",
    "        )\n",
    "    )"
   ]
  },
  {
   "cell_type": "code",
   "execution_count": null,
   "id": "514475bf",
   "metadata": {
    "ExecuteTime": {
     "end_time": "2021-06-23T09:19:51.286620Z",
     "start_time": "2021-06-23T09:15:22.703869Z"
    }
   },
   "outputs": [],
   "source": [
    "batch_size = 128\n",
    "epochs = 15\n",
    "\n",
    "model.compile(loss=custom_catcross, optimizer=\"adam\", metrics=[\"accuracy\"])\n",
    "\n",
    "model.fit(x_train, y_train, batch_size=batch_size, epochs=epochs, validation_split=0.1)"
   ]
  },
  {
   "cell_type": "code",
   "execution_count": 3,
   "id": "c145c661",
   "metadata": {
    "ExecuteTime": {
     "end_time": "2021-06-26T07:36:53.322422Z",
     "start_time": "2021-06-26T07:36:53.315406Z"
    }
   },
   "outputs": [],
   "source": [
    "from tensorflow.keras.layers import Convolution2D"
   ]
  },
  {
   "cell_type": "code",
   "execution_count": null,
   "id": "d11b5060",
   "metadata": {
    "ExecuteTime": {
     "end_time": "2021-06-23T09:14:33.101591Z",
     "start_time": "2021-06-23T09:14:33.095593Z"
    }
   },
   "outputs": [],
   "source": [
    "Convolution2D()"
   ]
  },
  {
   "cell_type": "code",
   "execution_count": 9,
   "id": "8d083a1d",
   "metadata": {
    "ExecuteTime": {
     "end_time": "2021-06-25T14:21:18.492588Z",
     "start_time": "2021-06-25T14:21:18.478586Z"
    }
   },
   "outputs": [
    {
     "data": {
      "text/plain": [
       "1.1769392"
      ]
     },
     "execution_count": 9,
     "metadata": {},
     "output_type": "execute_result"
    }
   ],
   "source": [
    "y_true = [[0., 1., 0.], [0., 0., 1.]]\n",
    "y_pred = [[0.04, 0.95, 0.01], [0.1, 0.8, 0.1]]\n",
    "# Using 'auto'/'sum_over_batch_size' reduction type.\n",
    "cce = tf.keras.losses.CategoricalCrossentropy()\n",
    "cce(y_true, y_pred).numpy()"
   ]
  },
  {
   "cell_type": "code",
   "execution_count": 10,
   "id": "892d16e9",
   "metadata": {
    "ExecuteTime": {
     "end_time": "2021-06-25T14:21:18.969586Z",
     "start_time": "2021-06-25T14:21:18.949588Z"
    }
   },
   "outputs": [
    {
     "data": {
      "text/plain": [
       "1.1769392"
      ]
     },
     "execution_count": 10,
     "metadata": {},
     "output_type": "execute_result"
    }
   ],
   "source": [
    "custom_catcross(y_true, y_pred).numpy()"
   ]
  },
  {
   "cell_type": "code",
   "execution_count": null,
   "id": "470688a4",
   "metadata": {
    "ExecuteTime": {
     "end_time": "2021-06-23T09:04:08.102736Z",
     "start_time": "2021-06-23T09:04:08.095741Z"
    }
   },
   "outputs": [],
   "source": [
    "tf.math.reduce_sum(\n",
    "    custom_catcross(y_true, y_pred)\n",
    ")"
   ]
  },
  {
   "cell_type": "code",
   "execution_count": null,
   "id": "4a7e16ca",
   "metadata": {
    "ExecuteTime": {
     "end_time": "2021-06-23T09:12:12.646235Z",
     "start_time": "2021-06-23T09:12:12.633240Z"
    }
   },
   "outputs": [],
   "source": [
    "tf.math.reduce_sum(y_true, axis=1)"
   ]
  },
  {
   "cell_type": "code",
   "execution_count": null,
   "id": "407127c3",
   "metadata": {
    "ExecuteTime": {
     "end_time": "2021-06-23T09:13:42.423862Z",
     "start_time": "2021-06-23T09:13:42.406852Z"
    }
   },
   "outputs": [],
   "source": []
  },
  {
   "cell_type": "code",
   "execution_count": 5,
   "id": "015124bf",
   "metadata": {
    "ExecuteTime": {
     "end_time": "2021-06-25T14:19:30.988470Z",
     "start_time": "2021-06-25T14:19:30.983469Z"
    }
   },
   "outputs": [],
   "source": [
    "#def custom_loss_function(y_true, y_pred):\n",
    "def custom_loss_function(reward, action_prob):\n",
    "    loss = - K.log(action_prob) * reward\n",
    "    #loss = action_prob * reward\n",
    "    loss = K.mean(loss)\n",
    "    return loss"
   ]
  },
  {
   "cell_type": "code",
   "execution_count": 11,
   "id": "768e4433",
   "metadata": {
    "ExecuteTime": {
     "end_time": "2021-06-25T14:21:25.093250Z",
     "start_time": "2021-06-25T14:21:25.079250Z"
    }
   },
   "outputs": [
    {
     "data": {
      "text/plain": [
       "0.3923131"
      ]
     },
     "execution_count": 11,
     "metadata": {},
     "output_type": "execute_result"
    }
   ],
   "source": [
    "custom_loss_function(y_true, y_pred).numpy()"
   ]
  },
  {
   "cell_type": "code",
   "execution_count": 16,
   "id": "65f57bd7",
   "metadata": {
    "ExecuteTime": {
     "end_time": "2021-06-25T14:22:43.749971Z",
     "start_time": "2021-06-25T14:22:43.741971Z"
    }
   },
   "outputs": [
    {
     "data": {
      "text/plain": [
       "array([[0.        , 0.05129331, 0.        ],\n",
       "       [0.        , 0.        , 2.3025851 ]], dtype=float32)"
      ]
     },
     "execution_count": 16,
     "metadata": {},
     "output_type": "execute_result"
    }
   ],
   "source": [
    "-(y_true * tf.math.log(y_pred)).numpy()"
   ]
  },
  {
   "cell_type": "code",
   "execution_count": 23,
   "id": "29f21361",
   "metadata": {
    "ExecuteTime": {
     "end_time": "2021-06-25T14:24:17.525551Z",
     "start_time": "2021-06-25T14:24:17.510551Z"
    }
   },
   "outputs": [
    {
     "data": {
      "text/plain": [
       "<tf.Tensor: shape=(2, 3), dtype=float32, numpy=\n",
       "array([[0.        , 0.05129331, 0.        ],\n",
       "       [0.        , 0.        , 2.3025851 ]], dtype=float32)>"
      ]
     },
     "execution_count": 23,
     "metadata": {},
     "output_type": "execute_result"
    }
   ],
   "source": [
    "- K.log(y_pred) * y_true"
   ]
  },
  {
   "cell_type": "code",
   "execution_count": 5,
   "id": "90c73ada",
   "metadata": {
    "ExecuteTime": {
     "end_time": "2021-06-26T06:18:21.584949Z",
     "start_time": "2021-06-26T06:18:21.567950Z"
    }
   },
   "outputs": [
    {
     "data": {
      "text/plain": [
       "-0.005025167926750725"
      ]
     },
     "execution_count": 5,
     "metadata": {},
     "output_type": "execute_result"
    }
   ],
   "source": [
    "import math\n",
    "\n",
    "math.log(0.99) * 0.5"
   ]
  },
  {
   "cell_type": "code",
   "execution_count": 3,
   "id": "0ace4825",
   "metadata": {
    "ExecuteTime": {
     "end_time": "2021-06-26T06:16:43.222826Z",
     "start_time": "2021-06-26T06:16:43.208847Z"
    }
   },
   "outputs": [
    {
     "data": {
      "text/plain": [
       "-69.07755278982137"
      ]
     },
     "execution_count": 3,
     "metadata": {},
     "output_type": "execute_result"
    }
   ],
   "source": [
    "math.log(0.01) * 15"
   ]
  },
  {
   "cell_type": "code",
   "execution_count": 8,
   "id": "f92ffb1d",
   "metadata": {
    "ExecuteTime": {
     "end_time": "2021-06-26T01:15:17.964477Z",
     "start_time": "2021-06-26T01:15:17.955479Z"
    }
   },
   "outputs": [],
   "source": [
    "def format_rewards(action_history, reward_history, action_space=2):\n",
    "    formated_ah = utils.to_categorical(action_history, num_classes=action_space)\n",
    "    formated_rw = np.full((action_space, reward_history.shape[0]), reward_history).T\n",
    "    return formated_ah * formated_rw\n",
    "\n",
    "def compute_discounted_reward(reward_history, discount_rate=0.99):\n",
    "    discounted_rewards = []\n",
    "    discounted_sum = 0\n",
    "    for r in reward_history[::-1]:\n",
    "        discounted_sum = r + discount_rate * discounted_sum\n",
    "        discounted_rewards.insert(0, discounted_sum)\n",
    "        \n",
    "    # use simple Baseline\n",
    "    discounted_rewards = (discounted_rewards - np.mean(discounted_rewards)) / np.std(discounted_rewards)\n",
    "    \n",
    "    return discounted_rewards"
   ]
  },
  {
   "cell_type": "code",
   "execution_count": 6,
   "id": "7f9415ec",
   "metadata": {
    "ExecuteTime": {
     "end_time": "2021-06-26T01:14:48.308410Z",
     "start_time": "2021-06-26T01:14:48.299410Z"
    }
   },
   "outputs": [],
   "source": [
    "ah = np.array([0, 1, 0, 1, 0, 1, 0, 1, 0, 1, 0, 1])\n",
    "rh = np.array([1, 1, 1, 1, 1, 1, 1, 1, 1, 1, 1, 1])"
   ]
  },
  {
   "cell_type": "code",
   "execution_count": 19,
   "id": "da635db0",
   "metadata": {
    "ExecuteTime": {
     "end_time": "2021-06-26T01:30:27.279782Z",
     "start_time": "2021-06-26T01:30:27.258785Z"
    }
   },
   "outputs": [
    {
     "data": {
      "text/plain": [
       "array([[ 1.56662532,  0.        ],\n",
       "       [ 0.        ,  1.29126974],\n",
       "       [ 1.01313279,  0.        ],\n",
       "       [ 0.        ,  0.73218638],\n",
       "       [ 0.44840212,  0.        ],\n",
       "       [ 0.        ,  0.16175136],\n",
       "       [-0.12779487, -0.        ],\n",
       "       [-0.        , -0.4202658 ],\n",
       "       [-0.71569099, -0.        ],\n",
       "       [-0.        , -1.01410027],\n",
       "       [-1.31552378, -0.        ],\n",
       "       [-0.        , -1.61999198]])"
      ]
     },
     "execution_count": 19,
     "metadata": {},
     "output_type": "execute_result"
    }
   ],
   "source": [
    "import tensorflow.keras.utils as utils\n",
    "format_rewards(ah, compute_discounted_reward(rh))"
   ]
  },
  {
   "cell_type": "code",
   "execution_count": 16,
   "id": "6d43835b",
   "metadata": {
    "ExecuteTime": {
     "end_time": "2021-06-26T01:18:36.546996Z",
     "start_time": "2021-06-26T01:18:36.538995Z"
    }
   },
   "outputs": [
    {
     "data": {
      "text/plain": [
       "array([1, 1, 1, 1, 1, 1, 1, 1, 1, 1, 1, 1])"
      ]
     },
     "execution_count": 16,
     "metadata": {},
     "output_type": "execute_result"
    }
   ],
   "source": [
    "def discount_rewards(rewards):\n",
    "    discounted_rewards = np.zeros_like(rewards)\n",
    "    running_add = 0\n",
    "    for t in reversed(range(0, len(rewards))):\n",
    "        if rewards[t] != 0:\n",
    "            running_add = 0\n",
    "        running_add = running_add * 0.99 + rewards[t]\n",
    "        discounted_rewards[t] = running_add\n",
    "    return discounted_rewards\n",
    "\n",
    "discount_rewards(rh)"
   ]
  },
  {
   "cell_type": "code",
   "execution_count": 17,
   "id": "f4f9bd8b",
   "metadata": {
    "ExecuteTime": {
     "end_time": "2021-06-26T01:20:26.525941Z",
     "start_time": "2021-06-26T01:20:26.514940Z"
    }
   },
   "outputs": [
    {
     "data": {
      "text/plain": [
       "array([[1., 0.],\n",
       "       [0., 1.],\n",
       "       [1., 0.],\n",
       "       [0., 1.],\n",
       "       [1., 0.],\n",
       "       [0., 1.],\n",
       "       [1., 0.],\n",
       "       [0., 1.],\n",
       "       [1., 0.],\n",
       "       [0., 1.],\n",
       "       [1., 0.],\n",
       "       [0., 1.]])"
      ]
     },
     "execution_count": 17,
     "metadata": {},
     "output_type": "execute_result"
    }
   ],
   "source": [
    "advantages = np.zeros((len(ah), 2))\n",
    "discounted_rewards = discount_rewards(rh)\n",
    "\n",
    "for i in range(len(ah)):\n",
    "    advantages[i][ah[i]] = discounted_rewards[i]\n",
    "\n",
    "advantages"
   ]
  },
  {
   "cell_type": "code",
   "execution_count": null,
   "id": "108661df",
   "metadata": {},
   "outputs": [],
   "source": [
    "update_inputs = np.zeros(((episode_length,) + self.state_size)) # Episode_lengthx64x64x4\n",
    "# Similar to one-hot target but the \"1\" is replaced by discounted_rewards R_t\n",
    "advantages = np.zeros((episode_length, self.action_size))\n",
    "\n",
    "# Episode length is like the minibatch size in DQN\n",
    "for i in range(episode_length):\n",
    "    update_inputs[i,:,:,:] = self.states[i]\n",
    "    advantages[i][self.actions[i]] = discounted_rewards[i]"
   ]
  },
  {
   "cell_type": "code",
   "execution_count": 1,
   "id": "da8b37c2",
   "metadata": {
    "ExecuteTime": {
     "end_time": "2021-06-26T13:30:08.773753Z",
     "start_time": "2021-06-26T13:30:05.829647Z"
    }
   },
   "outputs": [
    {
     "name": "stdout",
     "output_type": "stream",
     "text": [
      "Num GPUs Available:  0\n"
     ]
    }
   ],
   "source": [
    "import tensorflow as tf\n",
    "print(\"Num GPUs Available: \", len(tf.config.list_physical_devices('GPU')))"
   ]
  },
  {
   "cell_type": "code",
   "execution_count": null,
   "id": "6c79d210",
   "metadata": {},
   "outputs": [],
   "source": []
  }
 ],
 "metadata": {
  "kernelspec": {
   "display_name": "Python 3",
   "language": "python",
   "name": "python3"
  },
  "language_info": {
   "codemirror_mode": {
    "name": "ipython",
    "version": 3
   },
   "file_extension": ".py",
   "mimetype": "text/x-python",
   "name": "python",
   "nbconvert_exporter": "python",
   "pygments_lexer": "ipython3",
   "version": "3.7.4"
  },
  "toc": {
   "base_numbering": 1,
   "nav_menu": {},
   "number_sections": true,
   "sideBar": true,
   "skip_h1_title": false,
   "title_cell": "Table of Contents",
   "title_sidebar": "Contents",
   "toc_cell": false,
   "toc_position": {},
   "toc_section_display": true,
   "toc_window_display": true
  },
  "varInspector": {
   "cols": {
    "lenName": 16,
    "lenType": 16,
    "lenVar": 40
   },
   "kernels_config": {
    "python": {
     "delete_cmd_postfix": "",
     "delete_cmd_prefix": "del ",
     "library": "var_list.py",
     "varRefreshCmd": "print(var_dic_list())"
    },
    "r": {
     "delete_cmd_postfix": ") ",
     "delete_cmd_prefix": "rm(",
     "library": "var_list.r",
     "varRefreshCmd": "cat(var_dic_list()) "
    }
   },
   "types_to_exclude": [
    "module",
    "function",
    "builtin_function_or_method",
    "instance",
    "_Feature"
   ],
   "window_display": true
  }
 },
 "nbformat": 4,
 "nbformat_minor": 5
}
