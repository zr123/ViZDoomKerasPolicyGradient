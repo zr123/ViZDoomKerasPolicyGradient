{
 "cells": [
  {
   "cell_type": "code",
   "execution_count": null,
   "id": "83d96e67",
   "metadata": {},
   "outputs": [],
   "source": [
    "import tensorflow as tf\n",
    "import tensorflow.keras as keras\n",
    "from tensorflow.keras import backend as K\n",
    "from tensorflow.keras import Sequential\n",
    "from tensorflow.keras.layers import Input, Dense\n",
    "import tensorflow.keras.utils as utils\n",
    "import numpy as np\n",
    "import math\n",
    "import gym"
   ]
  },
  {
   "cell_type": "code",
   "execution_count": null,
   "id": "3ff66087",
   "metadata": {},
   "outputs": [],
   "source": [
    "def create_model():\n",
    "    model = Sequential()\n",
    "    model.add(Input(shape = (4,)))\n",
    "    model.add(Dense(32, activation='relu'))\n",
    "    model.add(Dense(32, activation='relu'))\n",
    "    model.add(Dense(32, activation='relu'))\n",
    "    model.add(Dense(32, activation='relu'))\n",
    "    model.add(Dense(32, activation='relu'))\n",
    "    model.add(Dense(32, activation='relu'))\n",
    "    model.add(Dense(32, activation='relu'))\n",
    "    model.add(Dense(32, activation='relu'))\n",
    "    model.add(Dense(32, activation='relu'))\n",
    "    model.add(Dense(32, activation='relu'))\n",
    "    #model.add(Dense(8, activation='relu'))\n",
    "    #model.add(Dense(4, activation='relu'))\n",
    "    model.add(Dense(2, activation='softmax'))\n",
    "    model.compile(optimizer='adam', loss='categorical_crossentropy')\n",
    "    return model"
   ]
  },
  {
   "cell_type": "code",
   "execution_count": null,
   "id": "2c289d75",
   "metadata": {},
   "outputs": [],
   "source": [
    "def take_probabilistic_action(model, state):\n",
    "    probabilities = model.predict(state.reshape(1, -1))\n",
    "    action = np.random.choice(2, p=probabilities[0])\n",
    "    return action"
   ]
  },
  {
   "cell_type": "code",
   "execution_count": null,
   "id": "6233c6d9",
   "metadata": {},
   "outputs": [],
   "source": [
    "def play_and_display(gym_env, model, duration = 1000):\n",
    "    state = gym_env.reset()\n",
    "    for _ in range(duration):\n",
    "        gym_env.render()\n",
    "        action = take_probabilistic_action(model, state)\n",
    "        state, reward, done, info = gym_env.step(action)\n",
    "    gym_env.close()"
   ]
  },
  {
   "cell_type": "code",
   "execution_count": null,
   "id": "38678a32",
   "metadata": {},
   "outputs": [],
   "source": [
    "play_and_display(gym.make('CartPole-v0'), create_model())"
   ]
  },
  {
   "cell_type": "code",
   "execution_count": null,
   "id": "2112a739",
   "metadata": {},
   "outputs": [],
   "source": [
    "### TODODODO\n",
    "def compute_discounted_R(R, discount_rate=.99):\n",
    "    \"\"\"Returns discounted rewards\n",
    "    Args:\n",
    "        R (1-D array): a list of `reward` at each time step\n",
    "        discount_rate (float): Will discount the future value by this rate\n",
    "    Returns:\n",
    "        discounted_r (1-D array): same shape as input `R`\n",
    "            but the values are discounted\n",
    "    Examples:\n",
    "        >>> R = [1, 1, 1]\n",
    "        >>> compute_discounted_R(R, .99) # before normalization\n",
    "        [1 + 0.99 + 0.99**2, 1 + 0.99, 1]\n",
    "    \"\"\"\n",
    "    discounted_r = np.zeros_like(R, dtype=np.float32)\n",
    "    running_add = 0\n",
    "    for t in reversed(range(len(R))):\n",
    "\n",
    "        running_add = running_add * discount_rate + R[t]\n",
    "        discounted_r[t] = running_add\n",
    "\n",
    "    discounted_r -= discounted_r.mean() / discounted_r.std()\n",
    "\n",
    "    return discounted_r"
   ]
  },
  {
   "cell_type": "code",
   "execution_count": null,
   "id": "c3dc016b",
   "metadata": {},
   "outputs": [],
   "source": [
    "def train_old(gym_env, model, duration=100, render=False):\n",
    "    state = gym_env.reset()\n",
    "    state_history = []\n",
    "    action_history = []\n",
    "    reward_history = []\n",
    "    cummulative_reward = 0\n",
    "\n",
    "    done = False\n",
    "    # simulation\n",
    "    #while not done:\n",
    "    for _ in range(duration):\n",
    "        if render:\n",
    "            gym_env.render()\n",
    "        action = take_probabilistic_action(model, state)\n",
    "        action_history.append(action)\n",
    "        state_history.append(state)\n",
    "        state, reward, done, info = gym_env.step(action)\n",
    "        cummulative_reward += reward\n",
    "        reward_history.append(reward)\n",
    "    gym_env.close()\n",
    "    \n",
    "    # prepare y - the \"correct\" action we'll reward\n",
    "    for i in range(len(reward_history)):\n",
    "        if reward_history[i] == 0.0:\n",
    "            action_history[i] = int(not action_history[i])\n",
    "    y = utils.to_categorical(action_history)\n",
    "    \n",
    "    # update weights\n",
    "    model.fit(x=np.array(state_history), y=y)"
   ]
  },
  {
   "cell_type": "code",
   "execution_count": null,
   "id": "b89921a9",
   "metadata": {},
   "outputs": [],
   "source": [
    "def get_loss(states, actions, rewards):\n",
    "    pass"
   ]
  },
  {
   "cell_type": "code",
   "execution_count": null,
   "id": "86720071",
   "metadata": {},
   "outputs": [],
   "source": [
    "#def custom_loss_function(y_true, y_pred):\n",
    "def custom_loss_function(reward, action_prob):\n",
    "    pass"
   ]
  },
  {
   "cell_type": "code",
   "execution_count": null,
   "id": "5f629204",
   "metadata": {},
   "outputs": [],
   "source": [
    "def train(gym_env, model, duration=100, render=False):\n",
    "    state = gym_env.reset()\n",
    "    state_history = []\n",
    "    action_history = []\n",
    "    reward_history = []\n",
    "    cummulative_reward = 0\n",
    "\n",
    "    done = False\n",
    "    # simulation\n",
    "    while not done:\n",
    "    #for _ in range(duration):\n",
    "        if render:\n",
    "            gym_env.render()\n",
    "        action = take_probabilistic_action(model, state)\n",
    "        action_history.append(action)\n",
    "        state_history.append(state)\n",
    "        state, reward, done, info = gym_env.step(action)\n",
    "        cummulative_reward += reward\n",
    "        reward_history.append(reward)\n",
    "    gym_env.close()\n",
    "    \n",
    "    # update weights\n",
    "    #model.train_on_batch()\n",
    "    model.fit(\n",
    "        x = np.array(state_history),\n",
    "        y = utils.to_categorical(action_history),\n",
    "        sample_weight = compute_discounted_R(reward_history))"
   ]
  },
  {
   "cell_type": "code",
   "execution_count": null,
   "id": "8b55ff4a",
   "metadata": {},
   "outputs": [],
   "source": [
    "env = gym.make('CartPole-v0')\n",
    "model = create_model()"
   ]
  },
  {
   "cell_type": "code",
   "execution_count": null,
   "id": "557b95fc",
   "metadata": {},
   "outputs": [],
   "source": [
    "for _ in range(2000):\n",
    "    train(env, model)"
   ]
  },
  {
   "cell_type": "code",
   "execution_count": null,
   "id": "2ca12078",
   "metadata": {},
   "outputs": [],
   "source": [
    "play_and_display(env, model)"
   ]
  },
  {
   "cell_type": "code",
   "execution_count": null,
   "id": "48fe1d16",
   "metadata": {},
   "outputs": [],
   "source": []
  }
 ],
 "metadata": {
  "kernelspec": {
   "display_name": "Python 3",
   "language": "python",
   "name": "python3"
  },
  "language_info": {
   "codemirror_mode": {
    "name": "ipython",
    "version": 3
   },
   "file_extension": ".py",
   "mimetype": "text/x-python",
   "name": "python",
   "nbconvert_exporter": "python",
   "pygments_lexer": "ipython3",
   "version": "3.7.4"
  },
  "toc": {
   "base_numbering": 1,
   "nav_menu": {},
   "number_sections": true,
   "sideBar": true,
   "skip_h1_title": false,
   "title_cell": "Table of Contents",
   "title_sidebar": "Contents",
   "toc_cell": false,
   "toc_position": {},
   "toc_section_display": true,
   "toc_window_display": true
  },
  "varInspector": {
   "cols": {
    "lenName": 16,
    "lenType": 16,
    "lenVar": 40
   },
   "kernels_config": {
    "python": {
     "delete_cmd_postfix": "",
     "delete_cmd_prefix": "del ",
     "library": "var_list.py",
     "varRefreshCmd": "print(var_dic_list())"
    },
    "r": {
     "delete_cmd_postfix": ") ",
     "delete_cmd_prefix": "rm(",
     "library": "var_list.r",
     "varRefreshCmd": "cat(var_dic_list()) "
    }
   },
   "types_to_exclude": [
    "module",
    "function",
    "builtin_function_or_method",
    "instance",
    "_Feature"
   ],
   "window_display": true
  }
 },
 "nbformat": 4,
 "nbformat_minor": 5
}
